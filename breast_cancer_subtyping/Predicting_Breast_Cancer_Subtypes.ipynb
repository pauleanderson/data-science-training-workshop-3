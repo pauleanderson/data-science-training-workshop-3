{
  "cells": [
    {
      "cell_type": "markdown",
      "metadata": {
        "id": "JWhCBQ7w4KEy"
      },
      "source": [
        "# Breast Cancer Subtyping with Genomics"
      ]
    },
    {
      "cell_type": "markdown",
      "metadata": {
        "jp-MarkdownHeadingCollapsed": true,
        "tags": [],
        "id": "gGKokmvOSU8I"
      },
      "source": [
        "## Molecular biology"
      ]
    },
    {
      "cell_type": "markdown",
      "metadata": {
        "id": "6biS8FTf4KE7",
        "jp-MarkdownHeadingCollapsed": true,
        "tags": []
      },
      "source": [
        "### Proteins\n",
        "<img src=\"https://www.eufic.org/images/uploads/whats-in-food/protein-functions.png\">"
      ]
    },
    {
      "cell_type": "markdown",
      "metadata": {
        "tags": [],
        "id": "SKjMh6vVSU8I"
      },
      "source": [
        "### Many new exciting advances in science let us investigate on the molecular level\n",
        "<img src=\"https://www.news-medical.net/image.axd?picture=2019%2F5%2Fshutterstock_1040732464.jpg\">"
      ]
    },
    {
      "cell_type": "markdown",
      "metadata": {
        "jp-MarkdownHeadingCollapsed": true,
        "tags": [],
        "id": "gdcVCTKNSU8J"
      },
      "source": [
        "## Cancer in the US"
      ]
    },
    {
      "cell_type": "markdown",
      "metadata": {
        "id": "NEw4GlYdHvbI",
        "jp-MarkdownHeadingCollapsed": true,
        "tags": []
      },
      "source": [
        "<img src=\"http://cdn.statcdn.com/Infographic/images/normal/20692.jpeg\">"
      ]
    },
    {
      "cell_type": "markdown",
      "metadata": {
        "id": "mZeOKB2YIxFC",
        "tags": []
      },
      "source": [
        "## Large scale genomic datasets\n",
        "\n",
        "We will examine a breast cancer dataset today. It contains a little more than 2,000 patients and expression (abundance) level data from approximately 20,000 genes. Each of the patients is labeled as one of six subtypes. \n",
        "\n",
        "Different subtypes react differently to the various treatments available. Knowing a patients subtype is therefore a critical step. Understanding the moelcular signature of a subtype is important for generating new ideas and new treatment options. "
      ]
    },
    {
      "cell_type": "markdown",
      "metadata": {
        "jp-MarkdownHeadingCollapsed": true,
        "tags": [],
        "id": "Fi7nWCy5SU8J"
      },
      "source": [
        "## Exploratory Data Analysis\n",
        "\n",
        "This first dataset shows the abundance of transcripts for three genes: ESR1, AURKA, ERBB2, and the subtype of breast cancer."
      ]
    },
    {
      "cell_type": "markdown",
      "metadata": {
        "id": "4m5rVR0rSU8J"
      },
      "source": [
        "### Read in the data"
      ]
    },
    {
      "cell_type": "code",
      "execution_count": 1,
      "metadata": {
        "cellView": "form",
        "colab": {
          "base_uri": "https://localhost:8080/",
          "height": 424
        },
        "id": "iAHHzvDH4KE7",
        "outputId": "c1df1631-f9d0-4bcf-c142-21dcb7145376"
      },
      "outputs": [
        {
          "output_type": "execute_result",
          "data": {
            "text/plain": [
              "          ESR1     AURKA     ERBB2 Subtype\n",
              "0     0.804501  0.264356  6.941677    LumA\n",
              "1     0.163597  0.589052  6.551394   Basal\n",
              "2     0.569347  0.189531  7.056530    LumA\n",
              "3     0.847584  0.264849  7.028625    LumB\n",
              "4     0.442474  0.526040  8.783604    LumB\n",
              "...        ...       ...       ...     ...\n",
              "2128  0.635455  0.143977  7.159443    LumA\n",
              "2129  0.632849  0.258203  7.145417    LumA\n",
              "2130  0.662344  0.243027  6.936228    LumA\n",
              "2131  0.086119  0.479997  7.671082   HER2+\n",
              "2132  0.684853  0.295967  7.045126    LumA\n",
              "\n",
              "[2133 rows x 4 columns]"
            ],
            "text/html": [
              "\n",
              "  <div id=\"df-1dd287f9-7f0b-45b7-8f8e-9314e201c736\">\n",
              "    <div class=\"colab-df-container\">\n",
              "      <div>\n",
              "<style scoped>\n",
              "    .dataframe tbody tr th:only-of-type {\n",
              "        vertical-align: middle;\n",
              "    }\n",
              "\n",
              "    .dataframe tbody tr th {\n",
              "        vertical-align: top;\n",
              "    }\n",
              "\n",
              "    .dataframe thead th {\n",
              "        text-align: right;\n",
              "    }\n",
              "</style>\n",
              "<table border=\"1\" class=\"dataframe\">\n",
              "  <thead>\n",
              "    <tr style=\"text-align: right;\">\n",
              "      <th></th>\n",
              "      <th>ESR1</th>\n",
              "      <th>AURKA</th>\n",
              "      <th>ERBB2</th>\n",
              "      <th>Subtype</th>\n",
              "    </tr>\n",
              "  </thead>\n",
              "  <tbody>\n",
              "    <tr>\n",
              "      <th>0</th>\n",
              "      <td>0.804501</td>\n",
              "      <td>0.264356</td>\n",
              "      <td>6.941677</td>\n",
              "      <td>LumA</td>\n",
              "    </tr>\n",
              "    <tr>\n",
              "      <th>1</th>\n",
              "      <td>0.163597</td>\n",
              "      <td>0.589052</td>\n",
              "      <td>6.551394</td>\n",
              "      <td>Basal</td>\n",
              "    </tr>\n",
              "    <tr>\n",
              "      <th>2</th>\n",
              "      <td>0.569347</td>\n",
              "      <td>0.189531</td>\n",
              "      <td>7.056530</td>\n",
              "      <td>LumA</td>\n",
              "    </tr>\n",
              "    <tr>\n",
              "      <th>3</th>\n",
              "      <td>0.847584</td>\n",
              "      <td>0.264849</td>\n",
              "      <td>7.028625</td>\n",
              "      <td>LumB</td>\n",
              "    </tr>\n",
              "    <tr>\n",
              "      <th>4</th>\n",
              "      <td>0.442474</td>\n",
              "      <td>0.526040</td>\n",
              "      <td>8.783604</td>\n",
              "      <td>LumB</td>\n",
              "    </tr>\n",
              "    <tr>\n",
              "      <th>...</th>\n",
              "      <td>...</td>\n",
              "      <td>...</td>\n",
              "      <td>...</td>\n",
              "      <td>...</td>\n",
              "    </tr>\n",
              "    <tr>\n",
              "      <th>2128</th>\n",
              "      <td>0.635455</td>\n",
              "      <td>0.143977</td>\n",
              "      <td>7.159443</td>\n",
              "      <td>LumA</td>\n",
              "    </tr>\n",
              "    <tr>\n",
              "      <th>2129</th>\n",
              "      <td>0.632849</td>\n",
              "      <td>0.258203</td>\n",
              "      <td>7.145417</td>\n",
              "      <td>LumA</td>\n",
              "    </tr>\n",
              "    <tr>\n",
              "      <th>2130</th>\n",
              "      <td>0.662344</td>\n",
              "      <td>0.243027</td>\n",
              "      <td>6.936228</td>\n",
              "      <td>LumA</td>\n",
              "    </tr>\n",
              "    <tr>\n",
              "      <th>2131</th>\n",
              "      <td>0.086119</td>\n",
              "      <td>0.479997</td>\n",
              "      <td>7.671082</td>\n",
              "      <td>HER2+</td>\n",
              "    </tr>\n",
              "    <tr>\n",
              "      <th>2132</th>\n",
              "      <td>0.684853</td>\n",
              "      <td>0.295967</td>\n",
              "      <td>7.045126</td>\n",
              "      <td>LumA</td>\n",
              "    </tr>\n",
              "  </tbody>\n",
              "</table>\n",
              "<p>2133 rows × 4 columns</p>\n",
              "</div>\n",
              "      <button class=\"colab-df-convert\" onclick=\"convertToInteractive('df-1dd287f9-7f0b-45b7-8f8e-9314e201c736')\"\n",
              "              title=\"Convert this dataframe to an interactive table.\"\n",
              "              style=\"display:none;\">\n",
              "        \n",
              "  <svg xmlns=\"http://www.w3.org/2000/svg\" height=\"24px\"viewBox=\"0 0 24 24\"\n",
              "       width=\"24px\">\n",
              "    <path d=\"M0 0h24v24H0V0z\" fill=\"none\"/>\n",
              "    <path d=\"M18.56 5.44l.94 2.06.94-2.06 2.06-.94-2.06-.94-.94-2.06-.94 2.06-2.06.94zm-11 1L8.5 8.5l.94-2.06 2.06-.94-2.06-.94L8.5 2.5l-.94 2.06-2.06.94zm10 10l.94 2.06.94-2.06 2.06-.94-2.06-.94-.94-2.06-.94 2.06-2.06.94z\"/><path d=\"M17.41 7.96l-1.37-1.37c-.4-.4-.92-.59-1.43-.59-.52 0-1.04.2-1.43.59L10.3 9.45l-7.72 7.72c-.78.78-.78 2.05 0 2.83L4 21.41c.39.39.9.59 1.41.59.51 0 1.02-.2 1.41-.59l7.78-7.78 2.81-2.81c.8-.78.8-2.07 0-2.86zM5.41 20L4 18.59l7.72-7.72 1.47 1.35L5.41 20z\"/>\n",
              "  </svg>\n",
              "      </button>\n",
              "      \n",
              "  <style>\n",
              "    .colab-df-container {\n",
              "      display:flex;\n",
              "      flex-wrap:wrap;\n",
              "      gap: 12px;\n",
              "    }\n",
              "\n",
              "    .colab-df-convert {\n",
              "      background-color: #E8F0FE;\n",
              "      border: none;\n",
              "      border-radius: 50%;\n",
              "      cursor: pointer;\n",
              "      display: none;\n",
              "      fill: #1967D2;\n",
              "      height: 32px;\n",
              "      padding: 0 0 0 0;\n",
              "      width: 32px;\n",
              "    }\n",
              "\n",
              "    .colab-df-convert:hover {\n",
              "      background-color: #E2EBFA;\n",
              "      box-shadow: 0px 1px 2px rgba(60, 64, 67, 0.3), 0px 1px 3px 1px rgba(60, 64, 67, 0.15);\n",
              "      fill: #174EA6;\n",
              "    }\n",
              "\n",
              "    [theme=dark] .colab-df-convert {\n",
              "      background-color: #3B4455;\n",
              "      fill: #D2E3FC;\n",
              "    }\n",
              "\n",
              "    [theme=dark] .colab-df-convert:hover {\n",
              "      background-color: #434B5C;\n",
              "      box-shadow: 0px 1px 3px 1px rgba(0, 0, 0, 0.15);\n",
              "      filter: drop-shadow(0px 1px 2px rgba(0, 0, 0, 0.3));\n",
              "      fill: #FFFFFF;\n",
              "    }\n",
              "  </style>\n",
              "\n",
              "      <script>\n",
              "        const buttonEl =\n",
              "          document.querySelector('#df-1dd287f9-7f0b-45b7-8f8e-9314e201c736 button.colab-df-convert');\n",
              "        buttonEl.style.display =\n",
              "          google.colab.kernel.accessAllowed ? 'block' : 'none';\n",
              "\n",
              "        async function convertToInteractive(key) {\n",
              "          const element = document.querySelector('#df-1dd287f9-7f0b-45b7-8f8e-9314e201c736');\n",
              "          const dataTable =\n",
              "            await google.colab.kernel.invokeFunction('convertToInteractive',\n",
              "                                                     [key], {});\n",
              "          if (!dataTable) return;\n",
              "\n",
              "          const docLinkHtml = 'Like what you see? Visit the ' +\n",
              "            '<a target=\"_blank\" href=https://colab.research.google.com/notebooks/data_table.ipynb>data table notebook</a>'\n",
              "            + ' to learn more about interactive tables.';\n",
              "          element.innerHTML = '';\n",
              "          dataTable['output_type'] = 'display_data';\n",
              "          await google.colab.output.renderOutput(dataTable, element);\n",
              "          const docLink = document.createElement('div');\n",
              "          docLink.innerHTML = docLinkHtml;\n",
              "          element.appendChild(docLink);\n",
              "        }\n",
              "      </script>\n",
              "    </div>\n",
              "  </div>\n",
              "  "
            ]
          },
          "metadata": {},
          "execution_count": 1
        }
      ],
      "source": [
        "import pandas as pd\n",
        "df = pd.read_csv(\n",
        "    \"https://raw.githubusercontent.com/pauleanderson/data-science-training-workshop-3/main/data/breast_cancer_three_gene.csv\",\n",
        "    index_col=0\n",
        ")\n",
        "df"
      ]
    },
    {
      "cell_type": "markdown",
      "metadata": {
        "id": "rGCgM18rSU8L"
      },
      "source": [
        "**Distribution of subtypes**"
      ]
    },
    {
      "cell_type": "code",
      "execution_count": 2,
      "metadata": {
        "colab": {
          "base_uri": "https://localhost:8080/"
        },
        "id": "arPRyWvg4Ms1",
        "outputId": "38097ae7-809c-46b0-fe21-7a73759758ab"
      },
      "outputs": [
        {
          "output_type": "execute_result",
          "data": {
            "text/plain": [
              "LumA           721\n",
              "LumB           491\n",
              "Basal          330\n",
              "HER2+          239\n",
              "Normal Like    202\n",
              "Normal         150\n",
              "Name: Subtype, dtype: int64"
            ]
          },
          "metadata": {},
          "execution_count": 2
        }
      ],
      "source": [
        "df['Subtype'].value_counts()"
      ]
    },
    {
      "cell_type": "markdown",
      "metadata": {
        "id": "ygRURJ0USU8L"
      },
      "source": [
        "**Exercise 1.** Create a bar plot visualizing the prevelance of subtypes in the dataset."
      ]
    },
    {
      "cell_type": "code",
      "execution_count": 3,
      "metadata": {
        "colab": {
          "base_uri": "https://localhost:8080/",
          "height": 314
        },
        "id": "l1oF7urvSU8M",
        "outputId": "eb6cd4b6-d020-4dcb-f227-dbea8c9411e9"
      },
      "outputs": [
        {
          "output_type": "display_data",
          "data": {
            "text/plain": [
              "<Figure size 432x288 with 1 Axes>"
            ],
            "image/png": "[encoded data removed]"
          },
          "metadata": {
            "needs_background": "light"
          }
        }
      ],
      "source": [
        "# Your solution here"
      ]
    },
    {
      "cell_type": "markdown",
      "metadata": {
        "id": "VP6uSIpJSU8M"
      },
      "source": [
        "**Exercise 2.** Create the same bar chart but with normalized values (i.e., fractional values)"
      ]
    },
    {
      "cell_type": "code",
      "execution_count": 4,
      "metadata": {
        "colab": {
          "base_uri": "https://localhost:8080/",
          "height": 315
        },
        "id": "eaej3sNqSU8M",
        "outputId": "c6a75696-cebe-4afd-be54-3dc3be716726"
      },
      "outputs": [
        {
          "output_type": "display_data",
          "data": {
            "text/plain": [
              "<Figure size 432x288 with 1 Axes>"
            ],
            "image/png": "[encoded data removed]"
          },
          "metadata": {
            "needs_background": "light"
          }
        }
      ],
      "source": [
        "# Your solution here"
      ]
    },
    {
      "cell_type": "markdown",
      "metadata": {
        "id": "gb2WwGcGSU8M"
      },
      "source": [
        "Let's examine the gene expression values of the first patient."
      ]
    },
    {
      "cell_type": "code",
      "execution_count": 5,
      "metadata": {
        "cellView": "form",
        "colab": {
          "base_uri": "https://localhost:8080/"
        },
        "id": "yk7zJ3XX5G0-",
        "outputId": "47672b05-575b-4142-a90c-252add5d6061"
      },
      "outputs": [
        {
          "output_type": "execute_result",
          "data": {
            "text/plain": [
              "ESR1       0.804501\n",
              "AURKA      0.264356\n",
              "ERBB2      6.941677\n",
              "Subtype        LumA\n",
              "Name: 0, dtype: object"
            ]
          },
          "metadata": {},
          "execution_count": 5
        }
      ],
      "source": [
        "df.loc[0]"
      ]
    },
    {
      "cell_type": "markdown",
      "metadata": {
        "id": "pPRqeNbu5XcB"
      },
      "source": [
        "This patient was diagnosed with subtype Luminal-A. Different subtypes react differently to the various treatments available. Knowing the diagnosis is therefore a critical step."
      ]
    },
    {
      "cell_type": "markdown",
      "metadata": {
        "id": "-71R7c-TSU8N"
      },
      "source": [
        "Let's examine the gene expression values themselves."
      ]
    },
    {
      "cell_type": "code",
      "execution_count": 6,
      "metadata": {
        "cellView": "form",
        "colab": {
          "base_uri": "https://localhost:8080/",
          "height": 300
        },
        "id": "c9oLR9tq7P85",
        "outputId": "423ca94d-c827-4a6c-9321-936c8fefbe44"
      },
      "outputs": [
        {
          "output_type": "execute_result",
          "data": {
            "text/plain": [
              "              ESR1        AURKA        ERBB2\n",
              "count  2133.000000  2133.000000  2133.000000\n",
              "mean      0.535424     0.317596     7.185408\n",
              "std       0.260877     0.150286     0.519532\n",
              "min       0.000000     0.000000     5.697302\n",
              "25%       0.334803     0.207093     6.899016\n",
              "50%       0.604382     0.306186     7.100927\n",
              "75%       0.743680     0.421009     7.317463\n",
              "max       1.000000     1.000000     9.197101"
            ],
            "text/html": [
              "\n",
              "  <div id=\"df-d7d76cfd-1062-4adc-be8f-25913a3e11cd\">\n",
              "    <div class=\"colab-df-container\">\n",
              "      <div>\n",
              "<style scoped>\n",
              "    .dataframe tbody tr th:only-of-type {\n",
              "        vertical-align: middle;\n",
              "    }\n",
              "\n",
              "    .dataframe tbody tr th {\n",
              "        vertical-align: top;\n",
              "    }\n",
              "\n",
              "    .dataframe thead th {\n",
              "        text-align: right;\n",
              "    }\n",
              "</style>\n",
              "<table border=\"1\" class=\"dataframe\">\n",
              "  <thead>\n",
              "    <tr style=\"text-align: right;\">\n",
              "      <th></th>\n",
              "      <th>ESR1</th>\n",
              "      <th>AURKA</th>\n",
              "      <th>ERBB2</th>\n",
              "    </tr>\n",
              "  </thead>\n",
              "  <tbody>\n",
              "    <tr>\n",
              "      <th>count</th>\n",
              "      <td>2133.000000</td>\n",
              "      <td>2133.000000</td>\n",
              "      <td>2133.000000</td>\n",
              "    </tr>\n",
              "    <tr>\n",
              "      <th>mean</th>\n",
              "      <td>0.535424</td>\n",
              "      <td>0.317596</td>\n",
              "      <td>7.185408</td>\n",
              "    </tr>\n",
              "    <tr>\n",
              "      <th>std</th>\n",
              "      <td>0.260877</td>\n",
              "      <td>0.150286</td>\n",
              "      <td>0.519532</td>\n",
              "    </tr>\n",
              "    <tr>\n",
              "      <th>min</th>\n",
              "      <td>0.000000</td>\n",
              "      <td>0.000000</td>\n",
              "      <td>5.697302</td>\n",
              "    </tr>\n",
              "    <tr>\n",
              "      <th>25%</th>\n",
              "      <td>0.334803</td>\n",
              "      <td>0.207093</td>\n",
              "      <td>6.899016</td>\n",
              "    </tr>\n",
              "    <tr>\n",
              "      <th>50%</th>\n",
              "      <td>0.604382</td>\n",
              "      <td>0.306186</td>\n",
              "      <td>7.100927</td>\n",
              "    </tr>\n",
              "    <tr>\n",
              "      <th>75%</th>\n",
              "      <td>0.743680</td>\n",
              "      <td>0.421009</td>\n",
              "      <td>7.317463</td>\n",
              "    </tr>\n",
              "    <tr>\n",
              "      <th>max</th>\n",
              "      <td>1.000000</td>\n",
              "      <td>1.000000</td>\n",
              "      <td>9.197101</td>\n",
              "    </tr>\n",
              "  </tbody>\n",
              "</table>\n",
              "</div>\n",
              "      <button class=\"colab-df-convert\" onclick=\"convertToInteractive('df-d7d76cfd-1062-4adc-be8f-25913a3e11cd')\"\n",
              "              title=\"Convert this dataframe to an interactive table.\"\n",
              "              style=\"display:none;\">\n",
              "        \n",
              "  <svg xmlns=\"http://www.w3.org/2000/svg\" height=\"24px\"viewBox=\"0 0 24 24\"\n",
              "       width=\"24px\">\n",
              "    <path d=\"M0 0h24v24H0V0z\" fill=\"none\"/>\n",
              "    <path d=\"M18.56 5.44l.94 2.06.94-2.06 2.06-.94-2.06-.94-.94-2.06-.94 2.06-2.06.94zm-11 1L8.5 8.5l.94-2.06 2.06-.94-2.06-.94L8.5 2.5l-.94 2.06-2.06.94zm10 10l.94 2.06.94-2.06 2.06-.94-2.06-.94-.94-2.06-.94 2.06-2.06.94z\"/><path d=\"M17.41 7.96l-1.37-1.37c-.4-.4-.92-.59-1.43-.59-.52 0-1.04.2-1.43.59L10.3 9.45l-7.72 7.72c-.78.78-.78 2.05 0 2.83L4 21.41c.39.39.9.59 1.41.59.51 0 1.02-.2 1.41-.59l7.78-7.78 2.81-2.81c.8-.78.8-2.07 0-2.86zM5.41 20L4 18.59l7.72-7.72 1.47 1.35L5.41 20z\"/>\n",
              "  </svg>\n",
              "      </button>\n",
              "      \n",
              "  <style>\n",
              "    .colab-df-container {\n",
              "      display:flex;\n",
              "      flex-wrap:wrap;\n",
              "      gap: 12px;\n",
              "    }\n",
              "\n",
              "    .colab-df-convert {\n",
              "      background-color: #E8F0FE;\n",
              "      border: none;\n",
              "      border-radius: 50%;\n",
              "      cursor: pointer;\n",
              "      display: none;\n",
              "      fill: #1967D2;\n",
              "      height: 32px;\n",
              "      padding: 0 0 0 0;\n",
              "      width: 32px;\n",
              "    }\n",
              "\n",
              "    .colab-df-convert:hover {\n",
              "      background-color: #E2EBFA;\n",
              "      box-shadow: 0px 1px 2px rgba(60, 64, 67, 0.3), 0px 1px 3px 1px rgba(60, 64, 67, 0.15);\n",
              "      fill: #174EA6;\n",
              "    }\n",
              "\n",
              "    [theme=dark] .colab-df-convert {\n",
              "      background-color: #3B4455;\n",
              "      fill: #D2E3FC;\n",
              "    }\n",
              "\n",
              "    [theme=dark] .colab-df-convert:hover {\n",
              "      background-color: #434B5C;\n",
              "      box-shadow: 0px 1px 3px 1px rgba(0, 0, 0, 0.15);\n",
              "      filter: drop-shadow(0px 1px 2px rgba(0, 0, 0, 0.3));\n",
              "      fill: #FFFFFF;\n",
              "    }\n",
              "  </style>\n",
              "\n",
              "      <script>\n",
              "        const buttonEl =\n",
              "          document.querySelector('#df-d7d76cfd-1062-4adc-be8f-25913a3e11cd button.colab-df-convert');\n",
              "        buttonEl.style.display =\n",
              "          google.colab.kernel.accessAllowed ? 'block' : 'none';\n",
              "\n",
              "        async function convertToInteractive(key) {\n",
              "          const element = document.querySelector('#df-d7d76cfd-1062-4adc-be8f-25913a3e11cd');\n",
              "          const dataTable =\n",
              "            await google.colab.kernel.invokeFunction('convertToInteractive',\n",
              "                                                     [key], {});\n",
              "          if (!dataTable) return;\n",
              "\n",
              "          const docLinkHtml = 'Like what you see? Visit the ' +\n",
              "            '<a target=\"_blank\" href=https://colab.research.google.com/notebooks/data_table.ipynb>data table notebook</a>'\n",
              "            + ' to learn more about interactive tables.';\n",
              "          element.innerHTML = '';\n",
              "          dataTable['output_type'] = 'display_data';\n",
              "          await google.colab.output.renderOutput(dataTable, element);\n",
              "          const docLink = document.createElement('div');\n",
              "          docLink.innerHTML = docLinkHtml;\n",
              "          element.appendChild(docLink);\n",
              "        }\n",
              "      </script>\n",
              "    </div>\n",
              "  </div>\n",
              "  "
            ]
          },
          "metadata": {},
          "execution_count": 6
        }
      ],
      "source": [
        "df.describe()"
      ]
    },
    {
      "cell_type": "markdown",
      "metadata": {
        "id": "pFPjdW5TSU8N"
      },
      "source": [
        "**Problem 1:** Do you notice anything different about one of the genes? Can you characterize what is different and suggest why it may be a problem depending on the analysis?\n",
        "\n",
        "Type your solution here"
      ]
    },
    {
      "cell_type": "markdown",
      "metadata": {
        "tags": [],
        "id": "aE_MaGfLSU8O"
      },
      "source": [
        "## Our first classifier"
      ]
    },
    {
      "cell_type": "markdown",
      "metadata": {
        "id": "72SqL382SU8O"
      },
      "source": [
        "**Exercise 3.** Develop a classifier and/or pipeline using these three genes and the labels available in y."
      ]
    },
    {
      "cell_type": "code",
      "execution_count": 7,
      "metadata": {
        "colab": {
          "base_uri": "https://localhost:8080/"
        },
        "id": "M8RO_ZgQSU8O",
        "outputId": "b2d7938d-17f7-462a-9736-02532e9689de"
      },
      "outputs": [
        {
          "output_type": "execute_result",
          "data": {
            "text/plain": [
              "KNeighborsClassifier(n_neighbors=3)"
            ]
          },
          "metadata": {},
          "execution_count": 7
        }
      ],
      "source": [
        "X = df[['ESR1','AURKA','ERBB2']]\n",
        "y = df['Subtype']\n",
        "\n",
        "from sklearn.neighbors import KNeighborsClassifier\n",
        "\n",
        "# Your solution here\n",
        "\n",
        "classifier.fit(X,y)"
      ]
    },
    {
      "cell_type": "markdown",
      "metadata": {
        "id": "hwsqavFbSU8O"
      },
      "source": [
        "### Training Accuracy"
      ]
    },
    {
      "cell_type": "code",
      "execution_count": 8,
      "metadata": {
        "colab": {
          "base_uri": "https://localhost:8080/"
        },
        "id": "t9cxl7l6SU8O",
        "outputId": "b2179871-4e2f-43ad-abe6-fb05357114b5"
      },
      "outputs": [
        {
          "output_type": "execute_result",
          "data": {
            "text/plain": [
              "0.776840131270511"
            ]
          },
          "metadata": {},
          "execution_count": 8
        }
      ],
      "source": [
        "from sklearn.metrics import accuracy_score\n",
        "\n",
        "y_pred = classifier.predict(X)\n",
        "accuracy_score(y,y_pred)"
      ]
    },
    {
      "cell_type": "markdown",
      "metadata": {
        "id": "y0e10LFpSU8O"
      },
      "source": [
        "### Training Accuracy Pitfalls\n",
        "Training accuracy can be misleading. It is an accuracy score based on data that has already been seen. It is much more interesting to see how a model will perform on data it has not seen perform. For this, we need to split our data into training and testing data. Train on the training data and predict/evaluate on the testing data."
      ]
    },
    {
      "cell_type": "code",
      "execution_count": 9,
      "metadata": {
        "id": "zU2gxnMZSU8P"
      },
      "outputs": [],
      "source": [
        "from sklearn.model_selection import train_test_split\n",
        "X_train, X_test, y_train, y_test = train_test_split(X, y, test_size=0.33, random_state=42)\n",
        "\n",
        "# Your solution here\n",
        "\n",
        "classifier.fit(X_train,y_train);"
      ]
    },
    {
      "cell_type": "code",
      "execution_count": 10,
      "metadata": {
        "colab": {
          "base_uri": "https://localhost:8080/"
        },
        "id": "5NXkYbKvSU8P",
        "outputId": "ef7dfaed-69ad-4321-f439-53381f733877"
      },
      "outputs": [
        {
          "output_type": "execute_result",
          "data": {
            "text/plain": [
              "0.6463068181818182"
            ]
          },
          "metadata": {},
          "execution_count": 10
        }
      ],
      "source": [
        "y_pred = classifier.predict(X_test)\n",
        "accuracy_score(y_test,y_pred)"
      ]
    },
    {
      "cell_type": "markdown",
      "metadata": {
        "id": "UGWYolc5SU8P"
      },
      "source": [
        "That's a greater than 10 point drop! Always make sure you evaluate on test data and be careful drawing conclusions about how your model will perform in the future."
      ]
    },
    {
      "cell_type": "markdown",
      "metadata": {
        "id": "jrzT6RN-SU8P"
      },
      "source": [
        "**Problem 2.** Does scaling improve our classifier?\n",
        "\n",
        "Examine the code below and type your answer here."
      ]
    },
    {
      "cell_type": "code",
      "execution_count": 12,
      "metadata": {
        "colab": {
          "base_uri": "https://localhost:8080/",
          "height": 300
        },
        "id": "-RB3e06ESU8P",
        "outputId": "934be08c-6db7-46b0-f5a3-42beab046ccd"
      },
      "outputs": [
        {
          "output_type": "execute_result",
          "data": {
            "text/plain": [
              "              ESR1        AURKA        ERBB2\n",
              "count  2133.000000  2133.000000  2133.000000\n",
              "mean      0.535424     0.317596     0.425198\n",
              "std       0.260877     0.150286     0.148446\n",
              "min       0.000000     0.000000     0.000000\n",
              "25%       0.334803     0.207093     0.343367\n",
              "50%       0.604382     0.306186     0.401059\n",
              "75%       0.743680     0.421009     0.462930\n",
              "max       1.000000     1.000000     1.000000"
            ],
            "text/html": [
              "\n",
              "  <div id=\"df-1c9a81f7-5d83-4fdd-a62c-62e9ea0dbe6b\">\n",
              "    <div class=\"colab-df-container\">\n",
              "      <div>\n",
              "<style scoped>\n",
              "    .dataframe tbody tr th:only-of-type {\n",
              "        vertical-align: middle;\n",
              "    }\n",
              "\n",
              "    .dataframe tbody tr th {\n",
              "        vertical-align: top;\n",
              "    }\n",
              "\n",
              "    .dataframe thead th {\n",
              "        text-align: right;\n",
              "    }\n",
              "</style>\n",
              "<table border=\"1\" class=\"dataframe\">\n",
              "  <thead>\n",
              "    <tr style=\"text-align: right;\">\n",
              "      <th></th>\n",
              "      <th>ESR1</th>\n",
              "      <th>AURKA</th>\n",
              "      <th>ERBB2</th>\n",
              "    </tr>\n",
              "  </thead>\n",
              "  <tbody>\n",
              "    <tr>\n",
              "      <th>count</th>\n",
              "      <td>2133.000000</td>\n",
              "      <td>2133.000000</td>\n",
              "      <td>2133.000000</td>\n",
              "    </tr>\n",
              "    <tr>\n",
              "      <th>mean</th>\n",
              "      <td>0.535424</td>\n",
              "      <td>0.317596</td>\n",
              "      <td>0.425198</td>\n",
              "    </tr>\n",
              "    <tr>\n",
              "      <th>std</th>\n",
              "      <td>0.260877</td>\n",
              "      <td>0.150286</td>\n",
              "      <td>0.148446</td>\n",
              "    </tr>\n",
              "    <tr>\n",
              "      <th>min</th>\n",
              "      <td>0.000000</td>\n",
              "      <td>0.000000</td>\n",
              "      <td>0.000000</td>\n",
              "    </tr>\n",
              "    <tr>\n",
              "      <th>25%</th>\n",
              "      <td>0.334803</td>\n",
              "      <td>0.207093</td>\n",
              "      <td>0.343367</td>\n",
              "    </tr>\n",
              "    <tr>\n",
              "      <th>50%</th>\n",
              "      <td>0.604382</td>\n",
              "      <td>0.306186</td>\n",
              "      <td>0.401059</td>\n",
              "    </tr>\n",
              "    <tr>\n",
              "      <th>75%</th>\n",
              "      <td>0.743680</td>\n",
              "      <td>0.421009</td>\n",
              "      <td>0.462930</td>\n",
              "    </tr>\n",
              "    <tr>\n",
              "      <th>max</th>\n",
              "      <td>1.000000</td>\n",
              "      <td>1.000000</td>\n",
              "      <td>1.000000</td>\n",
              "    </tr>\n",
              "  </tbody>\n",
              "</table>\n",
              "</div>\n",
              "      <button class=\"colab-df-convert\" onclick=\"convertToInteractive('df-1c9a81f7-5d83-4fdd-a62c-62e9ea0dbe6b')\"\n",
              "              title=\"Convert this dataframe to an interactive table.\"\n",
              "              style=\"display:none;\">\n",
              "        \n",
              "  <svg xmlns=\"http://www.w3.org/2000/svg\" height=\"24px\"viewBox=\"0 0 24 24\"\n",
              "       width=\"24px\">\n",
              "    <path d=\"M0 0h24v24H0V0z\" fill=\"none\"/>\n",
              "    <path d=\"M18.56 5.44l.94 2.06.94-2.06 2.06-.94-2.06-.94-.94-2.06-.94 2.06-2.06.94zm-11 1L8.5 8.5l.94-2.06 2.06-.94-2.06-.94L8.5 2.5l-.94 2.06-2.06.94zm10 10l.94 2.06.94-2.06 2.06-.94-2.06-.94-.94-2.06-.94 2.06-2.06.94z\"/><path d=\"M17.41 7.96l-1.37-1.37c-.4-.4-.92-.59-1.43-.59-.52 0-1.04.2-1.43.59L10.3 9.45l-7.72 7.72c-.78.78-.78 2.05 0 2.83L4 21.41c.39.39.9.59 1.41.59.51 0 1.02-.2 1.41-.59l7.78-7.78 2.81-2.81c.8-.78.8-2.07 0-2.86zM5.41 20L4 18.59l7.72-7.72 1.47 1.35L5.41 20z\"/>\n",
              "  </svg>\n",
              "      </button>\n",
              "      \n",
              "  <style>\n",
              "    .colab-df-container {\n",
              "      display:flex;\n",
              "      flex-wrap:wrap;\n",
              "      gap: 12px;\n",
              "    }\n",
              "\n",
              "    .colab-df-convert {\n",
              "      background-color: #E8F0FE;\n",
              "      border: none;\n",
              "      border-radius: 50%;\n",
              "      cursor: pointer;\n",
              "      display: none;\n",
              "      fill: #1967D2;\n",
              "      height: 32px;\n",
              "      padding: 0 0 0 0;\n",
              "      width: 32px;\n",
              "    }\n",
              "\n",
              "    .colab-df-convert:hover {\n",
              "      background-color: #E2EBFA;\n",
              "      box-shadow: 0px 1px 2px rgba(60, 64, 67, 0.3), 0px 1px 3px 1px rgba(60, 64, 67, 0.15);\n",
              "      fill: #174EA6;\n",
              "    }\n",
              "\n",
              "    [theme=dark] .colab-df-convert {\n",
              "      background-color: #3B4455;\n",
              "      fill: #D2E3FC;\n",
              "    }\n",
              "\n",
              "    [theme=dark] .colab-df-convert:hover {\n",
              "      background-color: #434B5C;\n",
              "      box-shadow: 0px 1px 3px 1px rgba(0, 0, 0, 0.15);\n",
              "      filter: drop-shadow(0px 1px 2px rgba(0, 0, 0, 0.3));\n",
              "      fill: #FFFFFF;\n",
              "    }\n",
              "  </style>\n",
              "\n",
              "      <script>\n",
              "        const buttonEl =\n",
              "          document.querySelector('#df-1c9a81f7-5d83-4fdd-a62c-62e9ea0dbe6b button.colab-df-convert');\n",
              "        buttonEl.style.display =\n",
              "          google.colab.kernel.accessAllowed ? 'block' : 'none';\n",
              "\n",
              "        async function convertToInteractive(key) {\n",
              "          const element = document.querySelector('#df-1c9a81f7-5d83-4fdd-a62c-62e9ea0dbe6b');\n",
              "          const dataTable =\n",
              "            await google.colab.kernel.invokeFunction('convertToInteractive',\n",
              "                                                     [key], {});\n",
              "          if (!dataTable) return;\n",
              "\n",
              "          const docLinkHtml = 'Like what you see? Visit the ' +\n",
              "            '<a target=\"_blank\" href=https://colab.research.google.com/notebooks/data_table.ipynb>data table notebook</a>'\n",
              "            + ' to learn more about interactive tables.';\n",
              "          element.innerHTML = '';\n",
              "          dataTable['output_type'] = 'display_data';\n",
              "          await google.colab.output.renderOutput(dataTable, element);\n",
              "          const docLink = document.createElement('div');\n",
              "          docLink.innerHTML = docLinkHtml;\n",
              "          element.appendChild(docLink);\n",
              "        }\n",
              "      </script>\n",
              "    </div>\n",
              "  </div>\n",
              "  "
            ]
          },
          "metadata": {},
          "execution_count": 12
        }
      ],
      "source": [
        "from sklearn.preprocessing import MinMaxScaler\n",
        "scaler = MinMaxScaler()\n",
        "X_scaled = pd.DataFrame(scaler.fit_transform(X),columns=X.columns,index=X.index)\n",
        "X_scaled.describe()"
      ]
    },
    {
      "cell_type": "code",
      "execution_count": 13,
      "metadata": {
        "id": "qGMuB1T7_A_3"
      },
      "outputs": [],
      "source": [
        "from sklearn.model_selection import train_test_split\n",
        "X_train, X_test, y_train, y_test = train_test_split(X_scaled, y, test_size=0.33, random_state=42)\n",
        "\n",
        "# Your solution here\n",
        "\n",
        "classifier.fit(X_train,y_train);"
      ]
    },
    {
      "cell_type": "code",
      "execution_count": 14,
      "metadata": {
        "colab": {
          "base_uri": "https://localhost:8080/"
        },
        "id": "h4HSYqqpSU8Q",
        "outputId": "dc03ab66-77e9-487c-c3d4-cd16545d9db1"
      },
      "outputs": [
        {
          "output_type": "execute_result",
          "data": {
            "text/plain": [
              "0.6434659090909091"
            ]
          },
          "metadata": {},
          "execution_count": 14
        }
      ],
      "source": [
        "y_pred = classifier.predict(X_test)\n",
        "accuracy_score(y_test,y_pred)"
      ]
    },
    {
      "cell_type": "markdown",
      "metadata": {
        "tags": [],
        "id": "bcr4Gxa0SU8Q"
      },
      "source": [
        "## Using our classifier to perdict the subtype of a single patient"
      ]
    },
    {
      "cell_type": "code",
      "execution_count": 15,
      "metadata": {
        "cellView": "form",
        "colab": {
          "base_uri": "https://localhost:8080/"
        },
        "id": "kkWX-zj16pEG",
        "outputId": "b5c23679-6ab5-4972-f549-0625fa29dfdc"
      },
      "outputs": [
        {
          "output_type": "stream",
          "name": "stdout",
          "text": [
            "This patient would be predicted to be: HER2+\n"
          ]
        },
        {
          "output_type": "stream",
          "name": "stderr",
          "text": [
            "/usr/local/lib/python3.7/dist-packages/sklearn/base.py:451: UserWarning: X does not have valid feature names, but KNeighborsClassifier was fitted with feature names\n",
            "  \"X does not have valid feature names, but\"\n"
          ]
        }
      ],
      "source": [
        "#@title Choose new values for a patient (double click to hide/show code)\n",
        "#@markdown **Important:** You must move the slider and then press the play button\n",
        "\n",
        "#@markdown Experiment with the values and observe how the prediction changes\n",
        "\n",
        "from IPython.display import display, Markdown, Latex\n",
        "\n",
        "ESR1 = 0.2 #@param {type:\"slider\", min:0, max:1, step:0.1}\n",
        "\n",
        "AURKA = 0.1 #@param {type:\"slider\", min:0, max:1, step:0.1}\n",
        "\n",
        "ERBB2 = 6 #@param {type:\"slider\", min:5, max:10, step:0.5}\n",
        "\n",
        "new_patient = pd.Series([ESR1,AURKA,ERBB2],index=[\"ESR1\",\"AURKA\",\"ERBB2\"])\n",
        "print(\"This patient would be predicted to be:\",classifier.predict([new_patient])[0])"
      ]
    },
    {
      "cell_type": "markdown",
      "metadata": {
        "id": "gaBwGaRSPG7B"
      },
      "source": [
        "**Problem 3.** What are some of your most pressing computational/algorithmic/data questions?\n",
        "\n",
        "**Your answers here**"
      ]
    },
    {
      "cell_type": "code",
      "execution_count": 16,
      "metadata": {
        "cellView": "form",
        "colab": {
          "base_uri": "https://localhost:8080/"
        },
        "id": "NHXHOSd_Q2kd",
        "outputId": "68e8477c-77ed-4b53-a102-dbe1c9f6ab41"
      },
      "outputs": [
        {
          "output_type": "stream",
          "name": "stdout",
          "text": [
            "              precision    recall  f1-score   support\n",
            "\n",
            "       Basal       0.78      0.82      0.80       112\n",
            "       HER2+       0.55      0.65      0.60        71\n",
            "        LumA       0.66      0.73      0.69       246\n",
            "        LumB       0.61      0.55      0.58       166\n",
            "      Normal       0.79      0.68      0.73        50\n",
            " Normal Like       0.26      0.15      0.19        59\n",
            "\n",
            "    accuracy                           0.64       704\n",
            "   macro avg       0.61      0.60      0.60       704\n",
            "weighted avg       0.63      0.64      0.63       704\n",
            "\n"
          ]
        }
      ],
      "source": [
        "#@title Let's look at a classification report (double click for code)\n",
        "\n",
        "#@markdown Some documentation: https://en.wikipedia.org/wiki/Precision_and_recall\n",
        "\n",
        "from sklearn.metrics import classification_report\n",
        "y_pred = classifier.predict(X_test)\n",
        "print(classification_report(y_test, y_pred))"
      ]
    },
    {
      "cell_type": "markdown",
      "metadata": {
        "id": "QAs23Di8QMSj"
      },
      "source": [
        "**Problem 4:** What subtypes does our model perform the best when trying to predict? What subtypes do we perform the worst when trying to predict? \n",
        "\n",
        "**Your answers here**"
      ]
    },
    {
      "cell_type": "code",
      "execution_count": 17,
      "metadata": {
        "cellView": "form",
        "id": "ID49m2lVSlgW"
      },
      "outputs": [],
      "source": [
        "#@title Double click for answers\n",
        "\n",
        "# If we are considering precision, our model performs the best on the Basal\n",
        "# subtype. On the other side, our model has the worst precision on Normal\n",
        "# Like. The same pattern holds true for recall.\n",
        "\n",
        "# The f1-score is a combination of precision and recall (harmonic mean).\n",
        "# The support is the number of patients for each subtype."
      ]
    },
    {
      "cell_type": "markdown",
      "metadata": {
        "id": "A9loA3rpUBmu"
      },
      "source": [
        "**Problem 5:** What are some of the next steps you might take with this dataset? What is a priority to you?\n",
        "\n",
        "**Your answers here**"
      ]
    },
    {
      "cell_type": "code",
      "execution_count": 18,
      "metadata": {
        "cellView": "form",
        "id": "QqKnRh-WT_PD"
      },
      "outputs": [],
      "source": [
        "#@title Double click for some answers\n",
        "\n",
        "# We could try other modeling techniques to see if we could improve the \n",
        "# performance. \n",
        "\n",
        "# We could focus our efforts on a more balanced method that performs\n",
        "# more equally on all subtypes.\n",
        "\n",
        "# We could incorporate other pieces of information.\n",
        "\n",
        "# We could focus on visualizations.\n",
        "\n",
        "# We could read the literature about breast cancer genomics.\n",
        "\n",
        "# As you can see above, we need a wide variety of fields to study\n",
        "# something as complex as cancer.\n"
      ]
    },
    {
      "cell_type": "markdown",
      "metadata": {
        "id": "vrKTo8c6SU8R"
      },
      "source": [
        "## Full dataset"
      ]
    },
    {
      "cell_type": "code",
      "execution_count": 19,
      "metadata": {
        "colab": {
          "base_uri": "https://localhost:8080/"
        },
        "id": "3T7NOpJiSU8S",
        "outputId": "60d9981d-9378-40db-ce34-37e9876db49e"
      },
      "outputs": [
        {
          "output_type": "stream",
          "name": "stdout",
          "text": [
            "Downloading...\n",
            "From: https://drive.google.com/uc?id=102fpQRRYnAycggsBV8fZYwEOG01cbKri\n",
            "To: /tmp/full.csv.gz\n",
            "100% 357M/357M [00:02<00:00, 158MB/s]\n"
          ]
        }
      ],
      "source": [
        "!gdown 102fpQRRYnAycggsBV8fZYwEOG01cbKri -O /tmp/full.csv.gz"
      ]
    },
    {
      "cell_type": "code",
      "execution_count": 20,
      "metadata": {
        "colab": {
          "base_uri": "https://localhost:8080/",
          "height": 267
        },
        "id": "JqQUC7ApSU8S",
        "outputId": "993b80f7-36ad-4457-d48e-3a74881e1cb1"
      },
      "outputs": [
        {
          "output_type": "execute_result",
          "data": {
            "text/plain": [
              "               A1CF       A2M     A2ML1    A4GALT     A4GNT      AAAS  \\\n",
              "Sample ID                                                               \n",
              "MB-0362    0.121975  0.215056  0.137268  0.319299  0.299318  0.379480   \n",
              "MB-0346    0.192559  0.042307  0.204485  0.103171  0.315292  0.391824   \n",
              "MB-0386    0.129016  0.302035  0.104212  0.478857  0.307694  0.265761   \n",
              "MB-0574    0.186569  0.204583  0.084922  0.155657  0.259502  0.225779   \n",
              "MB-0185    0.110777  0.337835  0.133802  0.265908  0.555257  0.349347   \n",
              "\n",
              "               AACS    AACSP1     AADAC   AADACL2  ...    ZWILCH     ZWINT  \\\n",
              "Sample ID                                          ...                       \n",
              "MB-0362    0.412660  0.361855  0.101269  0.172184  ...  0.221594  0.299784   \n",
              "MB-0346    0.544226  0.372350  0.087123  0.164404  ...  0.156303  0.516268   \n",
              "MB-0386    0.191160  0.214396  0.124491  0.135946  ...  0.167134  0.210737   \n",
              "MB-0574    0.276242  0.363504  0.156255  0.174428  ...  0.177223  0.211609   \n",
              "MB-0185    0.222268  0.381949  0.058114  0.111793  ...  0.382424  0.450318   \n",
              "\n",
              "               ZXDA      ZXDB      ZXDC    ZYG11A    ZYG11B       ZYX  \\\n",
              "Sample ID                                                               \n",
              "MB-0362    0.362357  0.225769  0.367554  0.132938  0.328175  0.573906   \n",
              "MB-0346    0.489675  0.363120  0.457905  0.155936  0.121523  0.483270   \n",
              "MB-0386    0.420390  0.164456  0.268026  0.169930  0.358189  0.616131   \n",
              "MB-0574    0.669651  0.530200  0.548744  0.054719  0.364991  0.480279   \n",
              "MB-0185    0.644640  0.280082  0.305045  0.135671  0.259829  0.531486   \n",
              "\n",
              "              ZZEF1      ZZZ3  \n",
              "Sample ID                      \n",
              "MB-0362    0.539070  0.147249  \n",
              "MB-0346    0.411438  0.224434  \n",
              "MB-0386    0.515510  0.124535  \n",
              "MB-0574    0.564949  0.158037  \n",
              "MB-0185    0.503557  0.165486  \n",
              "\n",
              "[5 rows x 19083 columns]"
            ],
            "text/html": [
              "\n",
              "  <div id=\"df-e4cc05d0-b5f3-4afb-8165-4f59c7d1ee9e\">\n",
              "    <div class=\"colab-df-container\">\n",
              "      <div>\n",
              "<style scoped>\n",
              "    .dataframe tbody tr th:only-of-type {\n",
              "        vertical-align: middle;\n",
              "    }\n",
              "\n",
              "    .dataframe tbody tr th {\n",
              "        vertical-align: top;\n",
              "    }\n",
              "\n",
              "    .dataframe thead th {\n",
              "        text-align: right;\n",
              "    }\n",
              "</style>\n",
              "<table border=\"1\" class=\"dataframe\">\n",
              "  <thead>\n",
              "    <tr style=\"text-align: right;\">\n",
              "      <th></th>\n",
              "      <th>A1CF</th>\n",
              "      <th>A2M</th>\n",
              "      <th>A2ML1</th>\n",
              "      <th>A4GALT</th>\n",
              "      <th>A4GNT</th>\n",
              "      <th>AAAS</th>\n",
              "      <th>AACS</th>\n",
              "      <th>AACSP1</th>\n",
              "      <th>AADAC</th>\n",
              "      <th>AADACL2</th>\n",
              "      <th>...</th>\n",
              "      <th>ZWILCH</th>\n",
              "      <th>ZWINT</th>\n",
              "      <th>ZXDA</th>\n",
              "      <th>ZXDB</th>\n",
              "      <th>ZXDC</th>\n",
              "      <th>ZYG11A</th>\n",
              "      <th>ZYG11B</th>\n",
              "      <th>ZYX</th>\n",
              "      <th>ZZEF1</th>\n",
              "      <th>ZZZ3</th>\n",
              "    </tr>\n",
              "    <tr>\n",
              "      <th>Sample ID</th>\n",
              "      <th></th>\n",
              "      <th></th>\n",
              "      <th></th>\n",
              "      <th></th>\n",
              "      <th></th>\n",
              "      <th></th>\n",
              "      <th></th>\n",
              "      <th></th>\n",
              "      <th></th>\n",
              "      <th></th>\n",
              "      <th></th>\n",
              "      <th></th>\n",
              "      <th></th>\n",
              "      <th></th>\n",
              "      <th></th>\n",
              "      <th></th>\n",
              "      <th></th>\n",
              "      <th></th>\n",
              "      <th></th>\n",
              "      <th></th>\n",
              "      <th></th>\n",
              "    </tr>\n",
              "  </thead>\n",
              "  <tbody>\n",
              "    <tr>\n",
              "      <th>MB-0362</th>\n",
              "      <td>0.121975</td>\n",
              "      <td>0.215056</td>\n",
              "      <td>0.137268</td>\n",
              "      <td>0.319299</td>\n",
              "      <td>0.299318</td>\n",
              "      <td>0.379480</td>\n",
              "      <td>0.412660</td>\n",
              "      <td>0.361855</td>\n",
              "      <td>0.101269</td>\n",
              "      <td>0.172184</td>\n",
              "      <td>...</td>\n",
              "      <td>0.221594</td>\n",
              "      <td>0.299784</td>\n",
              "      <td>0.362357</td>\n",
              "      <td>0.225769</td>\n",
              "      <td>0.367554</td>\n",
              "      <td>0.132938</td>\n",
              "      <td>0.328175</td>\n",
              "      <td>0.573906</td>\n",
              "      <td>0.539070</td>\n",
              "      <td>0.147249</td>\n",
              "    </tr>\n",
              "    <tr>\n",
              "      <th>MB-0346</th>\n",
              "      <td>0.192559</td>\n",
              "      <td>0.042307</td>\n",
              "      <td>0.204485</td>\n",
              "      <td>0.103171</td>\n",
              "      <td>0.315292</td>\n",
              "      <td>0.391824</td>\n",
              "      <td>0.544226</td>\n",
              "      <td>0.372350</td>\n",
              "      <td>0.087123</td>\n",
              "      <td>0.164404</td>\n",
              "      <td>...</td>\n",
              "      <td>0.156303</td>\n",
              "      <td>0.516268</td>\n",
              "      <td>0.489675</td>\n",
              "      <td>0.363120</td>\n",
              "      <td>0.457905</td>\n",
              "      <td>0.155936</td>\n",
              "      <td>0.121523</td>\n",
              "      <td>0.483270</td>\n",
              "      <td>0.411438</td>\n",
              "      <td>0.224434</td>\n",
              "    </tr>\n",
              "    <tr>\n",
              "      <th>MB-0386</th>\n",
              "      <td>0.129016</td>\n",
              "      <td>0.302035</td>\n",
              "      <td>0.104212</td>\n",
              "      <td>0.478857</td>\n",
              "      <td>0.307694</td>\n",
              "      <td>0.265761</td>\n",
              "      <td>0.191160</td>\n",
              "      <td>0.214396</td>\n",
              "      <td>0.124491</td>\n",
              "      <td>0.135946</td>\n",
              "      <td>...</td>\n",
              "      <td>0.167134</td>\n",
              "      <td>0.210737</td>\n",
              "      <td>0.420390</td>\n",
              "      <td>0.164456</td>\n",
              "      <td>0.268026</td>\n",
              "      <td>0.169930</td>\n",
              "      <td>0.358189</td>\n",
              "      <td>0.616131</td>\n",
              "      <td>0.515510</td>\n",
              "      <td>0.124535</td>\n",
              "    </tr>\n",
              "    <tr>\n",
              "      <th>MB-0574</th>\n",
              "      <td>0.186569</td>\n",
              "      <td>0.204583</td>\n",
              "      <td>0.084922</td>\n",
              "      <td>0.155657</td>\n",
              "      <td>0.259502</td>\n",
              "      <td>0.225779</td>\n",
              "      <td>0.276242</td>\n",
              "      <td>0.363504</td>\n",
              "      <td>0.156255</td>\n",
              "      <td>0.174428</td>\n",
              "      <td>...</td>\n",
              "      <td>0.177223</td>\n",
              "      <td>0.211609</td>\n",
              "      <td>0.669651</td>\n",
              "      <td>0.530200</td>\n",
              "      <td>0.548744</td>\n",
              "      <td>0.054719</td>\n",
              "      <td>0.364991</td>\n",
              "      <td>0.480279</td>\n",
              "      <td>0.564949</td>\n",
              "      <td>0.158037</td>\n",
              "    </tr>\n",
              "    <tr>\n",
              "      <th>MB-0185</th>\n",
              "      <td>0.110777</td>\n",
              "      <td>0.337835</td>\n",
              "      <td>0.133802</td>\n",
              "      <td>0.265908</td>\n",
              "      <td>0.555257</td>\n",
              "      <td>0.349347</td>\n",
              "      <td>0.222268</td>\n",
              "      <td>0.381949</td>\n",
              "      <td>0.058114</td>\n",
              "      <td>0.111793</td>\n",
              "      <td>...</td>\n",
              "      <td>0.382424</td>\n",
              "      <td>0.450318</td>\n",
              "      <td>0.644640</td>\n",
              "      <td>0.280082</td>\n",
              "      <td>0.305045</td>\n",
              "      <td>0.135671</td>\n",
              "      <td>0.259829</td>\n",
              "      <td>0.531486</td>\n",
              "      <td>0.503557</td>\n",
              "      <td>0.165486</td>\n",
              "    </tr>\n",
              "  </tbody>\n",
              "</table>\n",
              "<p>5 rows × 19083 columns</p>\n",
              "</div>\n",
              "      <button class=\"colab-df-convert\" onclick=\"convertToInteractive('df-e4cc05d0-b5f3-4afb-8165-4f59c7d1ee9e')\"\n",
              "              title=\"Convert this dataframe to an interactive table.\"\n",
              "              style=\"display:none;\">\n",
              "        \n",
              "  <svg xmlns=\"http://www.w3.org/2000/svg\" height=\"24px\"viewBox=\"0 0 24 24\"\n",
              "       width=\"24px\">\n",
              "    <path d=\"M0 0h24v24H0V0z\" fill=\"none\"/>\n",
              "    <path d=\"M18.56 5.44l.94 2.06.94-2.06 2.06-.94-2.06-.94-.94-2.06-.94 2.06-2.06.94zm-11 1L8.5 8.5l.94-2.06 2.06-.94-2.06-.94L8.5 2.5l-.94 2.06-2.06.94zm10 10l.94 2.06.94-2.06 2.06-.94-2.06-.94-.94-2.06-.94 2.06-2.06.94z\"/><path d=\"M17.41 7.96l-1.37-1.37c-.4-.4-.92-.59-1.43-.59-.52 0-1.04.2-1.43.59L10.3 9.45l-7.72 7.72c-.78.78-.78 2.05 0 2.83L4 21.41c.39.39.9.59 1.41.59.51 0 1.02-.2 1.41-.59l7.78-7.78 2.81-2.81c.8-.78.8-2.07 0-2.86zM5.41 20L4 18.59l7.72-7.72 1.47 1.35L5.41 20z\"/>\n",
              "  </svg>\n",
              "      </button>\n",
              "      \n",
              "  <style>\n",
              "    .colab-df-container {\n",
              "      display:flex;\n",
              "      flex-wrap:wrap;\n",
              "      gap: 12px;\n",
              "    }\n",
              "\n",
              "    .colab-df-convert {\n",
              "      background-color: #E8F0FE;\n",
              "      border: none;\n",
              "      border-radius: 50%;\n",
              "      cursor: pointer;\n",
              "      display: none;\n",
              "      fill: #1967D2;\n",
              "      height: 32px;\n",
              "      padding: 0 0 0 0;\n",
              "      width: 32px;\n",
              "    }\n",
              "\n",
              "    .colab-df-convert:hover {\n",
              "      background-color: #E2EBFA;\n",
              "      box-shadow: 0px 1px 2px rgba(60, 64, 67, 0.3), 0px 1px 3px 1px rgba(60, 64, 67, 0.15);\n",
              "      fill: #174EA6;\n",
              "    }\n",
              "\n",
              "    [theme=dark] .colab-df-convert {\n",
              "      background-color: #3B4455;\n",
              "      fill: #D2E3FC;\n",
              "    }\n",
              "\n",
              "    [theme=dark] .colab-df-convert:hover {\n",
              "      background-color: #434B5C;\n",
              "      box-shadow: 0px 1px 3px 1px rgba(0, 0, 0, 0.15);\n",
              "      filter: drop-shadow(0px 1px 2px rgba(0, 0, 0, 0.3));\n",
              "      fill: #FFFFFF;\n",
              "    }\n",
              "  </style>\n",
              "\n",
              "      <script>\n",
              "        const buttonEl =\n",
              "          document.querySelector('#df-e4cc05d0-b5f3-4afb-8165-4f59c7d1ee9e button.colab-df-convert');\n",
              "        buttonEl.style.display =\n",
              "          google.colab.kernel.accessAllowed ? 'block' : 'none';\n",
              "\n",
              "        async function convertToInteractive(key) {\n",
              "          const element = document.querySelector('#df-e4cc05d0-b5f3-4afb-8165-4f59c7d1ee9e');\n",
              "          const dataTable =\n",
              "            await google.colab.kernel.invokeFunction('convertToInteractive',\n",
              "                                                     [key], {});\n",
              "          if (!dataTable) return;\n",
              "\n",
              "          const docLinkHtml = 'Like what you see? Visit the ' +\n",
              "            '<a target=\"_blank\" href=https://colab.research.google.com/notebooks/data_table.ipynb>data table notebook</a>'\n",
              "            + ' to learn more about interactive tables.';\n",
              "          element.innerHTML = '';\n",
              "          dataTable['output_type'] = 'display_data';\n",
              "          await google.colab.output.renderOutput(dataTable, element);\n",
              "          const docLink = document.createElement('div');\n",
              "          docLink.innerHTML = docLinkHtml;\n",
              "          element.appendChild(docLink);\n",
              "        }\n",
              "      </script>\n",
              "    </div>\n",
              "  </div>\n",
              "  "
            ]
          },
          "metadata": {},
          "execution_count": 20
        }
      ],
      "source": [
        "X = pd.read_csv(\"/tmp/full.csv.gz\",index_col=0)\n",
        "X.head()"
      ]
    },
    {
      "cell_type": "code",
      "execution_count": 21,
      "metadata": {
        "colab": {
          "base_uri": "https://localhost:8080/",
          "height": 373
        },
        "id": "CzGEHsj5SU8S",
        "outputId": "5492b395-0f47-486f-b659-bb05a20d2133"
      },
      "outputs": [
        {
          "output_type": "execute_result",
          "data": {
            "text/plain": [
              "              A1CF          A2M        A2ML1       A4GALT        A4GNT  \\\n",
              "count  2136.000000  2136.000000  2136.000000  2136.000000  2136.000000   \n",
              "mean      0.129345     0.446733     0.140997     0.352773     0.428180   \n",
              "std       0.050340     0.143844     0.116590     0.135176     0.122847   \n",
              "min       0.000000     0.000000     0.000000     0.000000     0.000000   \n",
              "25%       0.100978     0.346920     0.088275     0.255381     0.344077   \n",
              "50%       0.124106     0.450870     0.107185     0.338017     0.427113   \n",
              "75%       0.149492     0.544661     0.134952     0.441670     0.501768   \n",
              "max       1.000000     1.000000     1.000000     1.000000     1.000000   \n",
              "\n",
              "              AAAS         AACS       AACSP1        AADAC      AADACL2  ...  \\\n",
              "count  2136.000000  2136.000000  2136.000000  2136.000000  2136.000000  ...   \n",
              "mean      0.280144     0.268360     0.356326     0.144389     0.124940  ...   \n",
              "std       0.095390     0.112346     0.117847     0.079359     0.043501  ...   \n",
              "min       0.000000     0.000000     0.000000     0.000000     0.000000  ...   \n",
              "25%       0.217556     0.197237     0.274489     0.106548     0.098976  ...   \n",
              "50%       0.271681     0.259785     0.350718     0.129315     0.122647  ...   \n",
              "75%       0.333748     0.323790     0.422431     0.158657     0.146547  ...   \n",
              "max       1.000000     1.000000     1.000000     1.000000     1.000000  ...   \n",
              "\n",
              "            ZWILCH        ZWINT         ZXDA         ZXDB         ZXDC  \\\n",
              "count  2136.000000  2136.000000  2136.000000  2136.000000  2136.000000   \n",
              "mean      0.247637     0.245608     0.445866     0.290930     0.391571   \n",
              "std       0.101149     0.107474     0.111506     0.108836     0.124234   \n",
              "min       0.000000     0.000000     0.000000     0.000000     0.000000   \n",
              "25%       0.177235     0.169188     0.375135     0.219624     0.305208   \n",
              "50%       0.237368     0.241310     0.438770     0.279557     0.385738   \n",
              "75%       0.305508     0.315312     0.513549     0.350253     0.468234   \n",
              "max       1.000000     1.000000     1.000000     1.000000     1.000000   \n",
              "\n",
              "            ZYG11A       ZYG11B          ZYX        ZZEF1         ZZZ3  \n",
              "count  2136.000000  2136.000000  2136.000000  2136.000000  2136.000000  \n",
              "mean      0.148065     0.447945     0.587342     0.594573     0.317150  \n",
              "std       0.051582     0.159754     0.111545     0.128808     0.098199  \n",
              "min       0.000000     0.000000     0.000000     0.000000     0.000000  \n",
              "25%       0.116703     0.335848     0.510695     0.512064     0.254998  \n",
              "50%       0.144746     0.435556     0.587802     0.598981     0.310345  \n",
              "75%       0.177225     0.541650     0.659314     0.678861     0.372176  \n",
              "max       1.000000     1.000000     1.000000     1.000000     1.000000  \n",
              "\n",
              "[8 rows x 19083 columns]"
            ],
            "text/html": [
              "\n",
              "  <div id=\"df-c3d55d8c-69bb-4243-ae2d-e7453a078e57\">\n",
              "    <div class=\"colab-df-container\">\n",
              "      <div>\n",
              "<style scoped>\n",
              "    .dataframe tbody tr th:only-of-type {\n",
              "        vertical-align: middle;\n",
              "    }\n",
              "\n",
              "    .dataframe tbody tr th {\n",
              "        vertical-align: top;\n",
              "    }\n",
              "\n",
              "    .dataframe thead th {\n",
              "        text-align: right;\n",
              "    }\n",
              "</style>\n",
              "<table border=\"1\" class=\"dataframe\">\n",
              "  <thead>\n",
              "    <tr style=\"text-align: right;\">\n",
              "      <th></th>\n",
              "      <th>A1CF</th>\n",
              "      <th>A2M</th>\n",
              "      <th>A2ML1</th>\n",
              "      <th>A4GALT</th>\n",
              "      <th>A4GNT</th>\n",
              "      <th>AAAS</th>\n",
              "      <th>AACS</th>\n",
              "      <th>AACSP1</th>\n",
              "      <th>AADAC</th>\n",
              "      <th>AADACL2</th>\n",
              "      <th>...</th>\n",
              "      <th>ZWILCH</th>\n",
              "      <th>ZWINT</th>\n",
              "      <th>ZXDA</th>\n",
              "      <th>ZXDB</th>\n",
              "      <th>ZXDC</th>\n",
              "      <th>ZYG11A</th>\n",
              "      <th>ZYG11B</th>\n",
              "      <th>ZYX</th>\n",
              "      <th>ZZEF1</th>\n",
              "      <th>ZZZ3</th>\n",
              "    </tr>\n",
              "  </thead>\n",
              "  <tbody>\n",
              "    <tr>\n",
              "      <th>count</th>\n",
              "      <td>2136.000000</td>\n",
              "      <td>2136.000000</td>\n",
              "      <td>2136.000000</td>\n",
              "      <td>2136.000000</td>\n",
              "      <td>2136.000000</td>\n",
              "      <td>2136.000000</td>\n",
              "      <td>2136.000000</td>\n",
              "      <td>2136.000000</td>\n",
              "      <td>2136.000000</td>\n",
              "      <td>2136.000000</td>\n",
              "      <td>...</td>\n",
              "      <td>2136.000000</td>\n",
              "      <td>2136.000000</td>\n",
              "      <td>2136.000000</td>\n",
              "      <td>2136.000000</td>\n",
              "      <td>2136.000000</td>\n",
              "      <td>2136.000000</td>\n",
              "      <td>2136.000000</td>\n",
              "      <td>2136.000000</td>\n",
              "      <td>2136.000000</td>\n",
              "      <td>2136.000000</td>\n",
              "    </tr>\n",
              "    <tr>\n",
              "      <th>mean</th>\n",
              "      <td>0.129345</td>\n",
              "      <td>0.446733</td>\n",
              "      <td>0.140997</td>\n",
              "      <td>0.352773</td>\n",
              "      <td>0.428180</td>\n",
              "      <td>0.280144</td>\n",
              "      <td>0.268360</td>\n",
              "      <td>0.356326</td>\n",
              "      <td>0.144389</td>\n",
              "      <td>0.124940</td>\n",
              "      <td>...</td>\n",
              "      <td>0.247637</td>\n",
              "      <td>0.245608</td>\n",
              "      <td>0.445866</td>\n",
              "      <td>0.290930</td>\n",
              "      <td>0.391571</td>\n",
              "      <td>0.148065</td>\n",
              "      <td>0.447945</td>\n",
              "      <td>0.587342</td>\n",
              "      <td>0.594573</td>\n",
              "      <td>0.317150</td>\n",
              "    </tr>\n",
              "    <tr>\n",
              "      <th>std</th>\n",
              "      <td>0.050340</td>\n",
              "      <td>0.143844</td>\n",
              "      <td>0.116590</td>\n",
              "      <td>0.135176</td>\n",
              "      <td>0.122847</td>\n",
              "      <td>0.095390</td>\n",
              "      <td>0.112346</td>\n",
              "      <td>0.117847</td>\n",
              "      <td>0.079359</td>\n",
              "      <td>0.043501</td>\n",
              "      <td>...</td>\n",
              "      <td>0.101149</td>\n",
              "      <td>0.107474</td>\n",
              "      <td>0.111506</td>\n",
              "      <td>0.108836</td>\n",
              "      <td>0.124234</td>\n",
              "      <td>0.051582</td>\n",
              "      <td>0.159754</td>\n",
              "      <td>0.111545</td>\n",
              "      <td>0.128808</td>\n",
              "      <td>0.098199</td>\n",
              "    </tr>\n",
              "    <tr>\n",
              "      <th>min</th>\n",
              "      <td>0.000000</td>\n",
              "      <td>0.000000</td>\n",
              "      <td>0.000000</td>\n",
              "      <td>0.000000</td>\n",
              "      <td>0.000000</td>\n",
              "      <td>0.000000</td>\n",
              "      <td>0.000000</td>\n",
              "      <td>0.000000</td>\n",
              "      <td>0.000000</td>\n",
              "      <td>0.000000</td>\n",
              "      <td>...</td>\n",
              "      <td>0.000000</td>\n",
              "      <td>0.000000</td>\n",
              "      <td>0.000000</td>\n",
              "      <td>0.000000</td>\n",
              "      <td>0.000000</td>\n",
              "      <td>0.000000</td>\n",
              "      <td>0.000000</td>\n",
              "      <td>0.000000</td>\n",
              "      <td>0.000000</td>\n",
              "      <td>0.000000</td>\n",
              "    </tr>\n",
              "    <tr>\n",
              "      <th>25%</th>\n",
              "      <td>0.100978</td>\n",
              "      <td>0.346920</td>\n",
              "      <td>0.088275</td>\n",
              "      <td>0.255381</td>\n",
              "      <td>0.344077</td>\n",
              "      <td>0.217556</td>\n",
              "      <td>0.197237</td>\n",
              "      <td>0.274489</td>\n",
              "      <td>0.106548</td>\n",
              "      <td>0.098976</td>\n",
              "      <td>...</td>\n",
              "      <td>0.177235</td>\n",
              "      <td>0.169188</td>\n",
              "      <td>0.375135</td>\n",
              "      <td>0.219624</td>\n",
              "      <td>0.305208</td>\n",
              "      <td>0.116703</td>\n",
              "      <td>0.335848</td>\n",
              "      <td>0.510695</td>\n",
              "      <td>0.512064</td>\n",
              "      <td>0.254998</td>\n",
              "    </tr>\n",
              "    <tr>\n",
              "      <th>50%</th>\n",
              "      <td>0.124106</td>\n",
              "      <td>0.450870</td>\n",
              "      <td>0.107185</td>\n",
              "      <td>0.338017</td>\n",
              "      <td>0.427113</td>\n",
              "      <td>0.271681</td>\n",
              "      <td>0.259785</td>\n",
              "      <td>0.350718</td>\n",
              "      <td>0.129315</td>\n",
              "      <td>0.122647</td>\n",
              "      <td>...</td>\n",
              "      <td>0.237368</td>\n",
              "      <td>0.241310</td>\n",
              "      <td>0.438770</td>\n",
              "      <td>0.279557</td>\n",
              "      <td>0.385738</td>\n",
              "      <td>0.144746</td>\n",
              "      <td>0.435556</td>\n",
              "      <td>0.587802</td>\n",
              "      <td>0.598981</td>\n",
              "      <td>0.310345</td>\n",
              "    </tr>\n",
              "    <tr>\n",
              "      <th>75%</th>\n",
              "      <td>0.149492</td>\n",
              "      <td>0.544661</td>\n",
              "      <td>0.134952</td>\n",
              "      <td>0.441670</td>\n",
              "      <td>0.501768</td>\n",
              "      <td>0.333748</td>\n",
              "      <td>0.323790</td>\n",
              "      <td>0.422431</td>\n",
              "      <td>0.158657</td>\n",
              "      <td>0.146547</td>\n",
              "      <td>...</td>\n",
              "      <td>0.305508</td>\n",
              "      <td>0.315312</td>\n",
              "      <td>0.513549</td>\n",
              "      <td>0.350253</td>\n",
              "      <td>0.468234</td>\n",
              "      <td>0.177225</td>\n",
              "      <td>0.541650</td>\n",
              "      <td>0.659314</td>\n",
              "      <td>0.678861</td>\n",
              "      <td>0.372176</td>\n",
              "    </tr>\n",
              "    <tr>\n",
              "      <th>max</th>\n",
              "      <td>1.000000</td>\n",
              "      <td>1.000000</td>\n",
              "      <td>1.000000</td>\n",
              "      <td>1.000000</td>\n",
              "      <td>1.000000</td>\n",
              "      <td>1.000000</td>\n",
              "      <td>1.000000</td>\n",
              "      <td>1.000000</td>\n",
              "      <td>1.000000</td>\n",
              "      <td>1.000000</td>\n",
              "      <td>...</td>\n",
              "      <td>1.000000</td>\n",
              "      <td>1.000000</td>\n",
              "      <td>1.000000</td>\n",
              "      <td>1.000000</td>\n",
              "      <td>1.000000</td>\n",
              "      <td>1.000000</td>\n",
              "      <td>1.000000</td>\n",
              "      <td>1.000000</td>\n",
              "      <td>1.000000</td>\n",
              "      <td>1.000000</td>\n",
              "    </tr>\n",
              "  </tbody>\n",
              "</table>\n",
              "<p>8 rows × 19083 columns</p>\n",
              "</div>\n",
              "      <button class=\"colab-df-convert\" onclick=\"convertToInteractive('df-c3d55d8c-69bb-4243-ae2d-e7453a078e57')\"\n",
              "              title=\"Convert this dataframe to an interactive table.\"\n",
              "              style=\"display:none;\">\n",
              "        \n",
              "  <svg xmlns=\"http://www.w3.org/2000/svg\" height=\"24px\"viewBox=\"0 0 24 24\"\n",
              "       width=\"24px\">\n",
              "    <path d=\"M0 0h24v24H0V0z\" fill=\"none\"/>\n",
              "    <path d=\"M18.56 5.44l.94 2.06.94-2.06 2.06-.94-2.06-.94-.94-2.06-.94 2.06-2.06.94zm-11 1L8.5 8.5l.94-2.06 2.06-.94-2.06-.94L8.5 2.5l-.94 2.06-2.06.94zm10 10l.94 2.06.94-2.06 2.06-.94-2.06-.94-.94-2.06-.94 2.06-2.06.94z\"/><path d=\"M17.41 7.96l-1.37-1.37c-.4-.4-.92-.59-1.43-.59-.52 0-1.04.2-1.43.59L10.3 9.45l-7.72 7.72c-.78.78-.78 2.05 0 2.83L4 21.41c.39.39.9.59 1.41.59.51 0 1.02-.2 1.41-.59l7.78-7.78 2.81-2.81c.8-.78.8-2.07 0-2.86zM5.41 20L4 18.59l7.72-7.72 1.47 1.35L5.41 20z\"/>\n",
              "  </svg>\n",
              "      </button>\n",
              "      \n",
              "  <style>\n",
              "    .colab-df-container {\n",
              "      display:flex;\n",
              "      flex-wrap:wrap;\n",
              "      gap: 12px;\n",
              "    }\n",
              "\n",
              "    .colab-df-convert {\n",
              "      background-color: #E8F0FE;\n",
              "      border: none;\n",
              "      border-radius: 50%;\n",
              "      cursor: pointer;\n",
              "      display: none;\n",
              "      fill: #1967D2;\n",
              "      height: 32px;\n",
              "      padding: 0 0 0 0;\n",
              "      width: 32px;\n",
              "    }\n",
              "\n",
              "    .colab-df-convert:hover {\n",
              "      background-color: #E2EBFA;\n",
              "      box-shadow: 0px 1px 2px rgba(60, 64, 67, 0.3), 0px 1px 3px 1px rgba(60, 64, 67, 0.15);\n",
              "      fill: #174EA6;\n",
              "    }\n",
              "\n",
              "    [theme=dark] .colab-df-convert {\n",
              "      background-color: #3B4455;\n",
              "      fill: #D2E3FC;\n",
              "    }\n",
              "\n",
              "    [theme=dark] .colab-df-convert:hover {\n",
              "      background-color: #434B5C;\n",
              "      box-shadow: 0px 1px 3px 1px rgba(0, 0, 0, 0.15);\n",
              "      filter: drop-shadow(0px 1px 2px rgba(0, 0, 0, 0.3));\n",
              "      fill: #FFFFFF;\n",
              "    }\n",
              "  </style>\n",
              "\n",
              "      <script>\n",
              "        const buttonEl =\n",
              "          document.querySelector('#df-c3d55d8c-69bb-4243-ae2d-e7453a078e57 button.colab-df-convert');\n",
              "        buttonEl.style.display =\n",
              "          google.colab.kernel.accessAllowed ? 'block' : 'none';\n",
              "\n",
              "        async function convertToInteractive(key) {\n",
              "          const element = document.querySelector('#df-c3d55d8c-69bb-4243-ae2d-e7453a078e57');\n",
              "          const dataTable =\n",
              "            await google.colab.kernel.invokeFunction('convertToInteractive',\n",
              "                                                     [key], {});\n",
              "          if (!dataTable) return;\n",
              "\n",
              "          const docLinkHtml = 'Like what you see? Visit the ' +\n",
              "            '<a target=\"_blank\" href=https://colab.research.google.com/notebooks/data_table.ipynb>data table notebook</a>'\n",
              "            + ' to learn more about interactive tables.';\n",
              "          element.innerHTML = '';\n",
              "          dataTable['output_type'] = 'display_data';\n",
              "          await google.colab.output.renderOutput(dataTable, element);\n",
              "          const docLink = document.createElement('div');\n",
              "          docLink.innerHTML = docLinkHtml;\n",
              "          element.appendChild(docLink);\n",
              "        }\n",
              "      </script>\n",
              "    </div>\n",
              "  </div>\n",
              "  "
            ]
          },
          "metadata": {},
          "execution_count": 21
        }
      ],
      "source": [
        "scaler = MinMaxScaler()\n",
        "X_scaled = pd.DataFrame(scaler.fit_transform(X),columns=X.columns,index=X.index)\n",
        "X_scaled.describe()"
      ]
    },
    {
      "cell_type": "code",
      "execution_count": 22,
      "metadata": {
        "colab": {
          "base_uri": "https://localhost:8080/"
        },
        "id": "6_08KzSaSU8S",
        "outputId": "2d0759a5-67b0-49ff-fd9a-991fb533a7a0"
      },
      "outputs": [
        {
          "output_type": "stream",
          "name": "stdout",
          "text": [
            "Downloading...\n",
            "From: https://drive.google.com/uc?id=1rwEfgzhQjeR7YpQYil4A1dmTxlKbpaB5\n",
            "To: /tmp/y.csv\n",
            "\r  0% 0.00/33.6k [00:00<?, ?B/s]\r100% 33.6k/33.6k [00:00<00:00, 28.1MB/s]\n"
          ]
        }
      ],
      "source": [
        "!gdown 1rwEfgzhQjeR7YpQYil4A1dmTxlKbpaB5 -O /tmp/y.csv"
      ]
    },
    {
      "cell_type": "code",
      "execution_count": 23,
      "metadata": {
        "colab": {
          "base_uri": "https://localhost:8080/"
        },
        "id": "qSdJZR-mSU8S",
        "outputId": "fe0b844a-da6a-4455-f7a0-44b204e1ff20"
      },
      "outputs": [
        {
          "output_type": "execute_result",
          "data": {
            "text/plain": [
              "Sample ID\n",
              "MB-0000      claudin-low\n",
              "MB-0002             LumA\n",
              "MB-0005             LumB\n",
              "MB-0006             LumB\n",
              "MB-0008             LumB\n",
              "                ...     \n",
              "MTS-T2428            NaN\n",
              "MTS-T2429            NaN\n",
              "MTS-T2430            NaN\n",
              "MTS-T2431            NaN\n",
              "MTS-T2432            NaN\n",
              "Name: Pam50 + Claudin-low subtype, Length: 2509, dtype: object"
            ]
          },
          "metadata": {},
          "execution_count": 23
        }
      ],
      "source": [
        "y = pd.read_csv('/tmp/y.csv').set_index('Sample ID')['Pam50 + Claudin-low subtype']\n",
        "y"
      ]
    },
    {
      "cell_type": "code",
      "execution_count": 28,
      "metadata": {
        "id": "er9AvujoSU8S"
      },
      "outputs": [],
      "source": [
        "y = y.dropna()\n",
        "X_scaled = X.loc[y.index]\n",
        "X_scaled = X_scaled.dropna()\n",
        "y = y.loc[X_scaled.index]\n",
        "y = y.loc[y != 'NC']\n",
        "X_scaled = X_scaled.loc[y.index]"
      ]
    },
    {
      "cell_type": "code",
      "execution_count": 29,
      "metadata": {
        "id": "WGvSuIvrSU8S"
      },
      "outputs": [],
      "source": [
        "from sklearn.model_selection import train_test_split\n",
        "X_train, X_test, y_train, y_test = train_test_split(X_scaled, y, test_size=0.33, random_state=42)\n",
        "\n",
        "# Your solution here\n",
        "\n",
        "classifier.fit(X_train,y_train);"
      ]
    },
    {
      "cell_type": "code",
      "execution_count": 30,
      "metadata": {
        "colab": {
          "base_uri": "https://localhost:8080/"
        },
        "id": "IrJk4f_bSU8S",
        "outputId": "4434487c-af10-4b4f-defa-9b782a3989d3"
      },
      "outputs": [
        {
          "output_type": "stream",
          "name": "stdout",
          "text": [
            "              precision    recall  f1-score   support\n",
            "\n",
            "       Basal       0.53      0.74      0.61        53\n",
            "        Her2       0.60      0.38      0.46        80\n",
            "        LumA       0.59      0.90      0.71       239\n",
            "        LumB       0.75      0.26      0.39       157\n",
            "      Normal       0.58      0.48      0.53        54\n",
            " claudin-low       0.74      0.73      0.73        66\n",
            "\n",
            "    accuracy                           0.61       649\n",
            "   macro avg       0.63      0.58      0.57       649\n",
            "weighted avg       0.64      0.61      0.58       649\n",
            "\n"
          ]
        }
      ],
      "source": [
        "#@title Let's look at a classification report (double click for code)\n",
        "\n",
        "#@markdown Some documentation: https://en.wikipedia.org/wiki/Precision_and_recall\n",
        "\n",
        "from sklearn.metrics import classification_report\n",
        "y_pred = classifier.predict(X_test)\n",
        "print(classification_report(y_test, y_pred))"
      ]
    },
    {
      "cell_type": "markdown",
      "metadata": {
        "id": "8WeEZVcNSU8T"
      },
      "source": [
        "**Did the accuracy go up or down? Why do you think that is?**\n",
        "\n",
        "Your answer here."
      ]
    },
    {
      "cell_type": "markdown",
      "source": [
        "## Would running this through a neural network improve our results?"
      ],
      "metadata": {
        "id": "x0oPEvdLThc_"
      }
    },
    {
      "cell_type": "code",
      "execution_count": null,
      "metadata": {
        "colab": {
          "base_uri": "https://localhost:8080/"
        },
        "id": "ZLMYx56TSU8T",
        "outputId": "2bd67697-c200-4df9-cb59-23cf3967bbae"
      },
      "outputs": [
        {
          "output_type": "stream",
          "name": "stdout",
          "text": [
            "/////////////////////////////:ae_shape [19083, [1024, 512], 6]\n",
            "Epoch 1/2000\n",
            "5/5 [==============================] - 3s 524ms/step - loss: 1.6628 - accuracy: 0.3528 - val_loss: 1.7317 - val_accuracy: 0.2803\n",
            "Epoch 2/2000\n",
            "5/5 [==============================] - 2s 475ms/step - loss: 1.6429 - accuracy: 0.3551 - val_loss: 1.7223 - val_accuracy: 0.2803\n",
            "Epoch 3/2000\n"
          ]
        }
      ],
      "source": [
        "import tensorflow as tf\n",
        "from tensorflow.keras.models import Model\n",
        "from tensorflow.keras import layers\n",
        "from sklearn.metrics import precision_score, f1_score, recall_score\n",
        "import numpy as np\n",
        "import pandas as pd\n",
        "\n",
        "class Encoder(Model):\n",
        "    def __init__(self, shape):\n",
        "        self.__num_hidden_layers = len(shape) - 2\n",
        "        super(Encoder, self).__init__()\n",
        "        layer_list = [layers.Flatten()]\n",
        "        for shp in shape[1]:\n",
        "            layer_list.append(layers.Dense(shp, activation='sigmoid'))\n",
        "        self.encoder = tf.keras.Sequential(layer_list)\n",
        "        self.decoder = tf.keras.Sequential([layers.Dense(shape[2], activation='sigmoid')])\n",
        "    \n",
        "    def call(self, x):\n",
        "        encoded = self.encoder(x)\n",
        "        decoded = self.decoder(encoded)\n",
        "        return decoded\n",
        "    \n",
        "    def call_encoded(self,x):\n",
        "        return self.encoder(x)\n",
        "\n",
        "class DataSet(object):\n",
        "  def __init__(self, data, labels):\n",
        "\n",
        "    self._num_examples = labels.shape[0]\n",
        "\n",
        "    self._data = data\n",
        "    self._labels = labels\n",
        "    self._epochs_completed = 0\n",
        "    self._index_in_epoch = 0\n",
        "    self._A = None\n",
        "\n",
        "  @property\n",
        "  def data(self):\n",
        "    return self._data\n",
        "\n",
        "  @property\n",
        "  def labels(self):\n",
        "    return self._labels\n",
        "\n",
        "  @property\n",
        "  def A(self):\n",
        "    return self._A\n",
        "\n",
        "  @A.setter\n",
        "  def A(self,A):\n",
        "    self._A = A\n",
        "\n",
        "  @property\n",
        "  def num_examples(self):\n",
        "    return self._num_examples\n",
        "  @property\n",
        "  def start_index(self):\n",
        "      return self._index_in_epoch\n",
        "  @labels.setter\n",
        "  def labels(self,values):\n",
        "    self._labels = values\n",
        "\n",
        "\n",
        "  def next_batch(self, batch_size, UNSUPERVISED = False):\n",
        "    \"\"\"Return the next `batch_size` examples from this data set.\"\"\"\n",
        "    n_sample = self.num_examples\n",
        "    start = self._index_in_epoch\n",
        "    end = self._index_in_epoch + batch_size\n",
        "    end = min(end, n_sample)\n",
        "    id = range(start, end)\n",
        "    data_input = self._data[id, :]\n",
        "    if ~UNSUPERVISED:\n",
        "        target_input = self._labels[id, :]\n",
        "    else: target_input = []\n",
        "\n",
        "    self._index_in_epoch = end\n",
        "\n",
        "    if end == n_sample:\n",
        "        self._index_in_epoch = 0\n",
        "\n",
        "    return data_input, target_input\n",
        "\n",
        "class Data:\n",
        "  def __init__(self,X,y):\n",
        "    num_to_targets = pd.Series(y.unique())\n",
        "    self.num_to_targets = num_to_targets\n",
        "    n_label = len(num_to_targets)\n",
        "    n_sample = len(X)\n",
        "    Y = np.zeros([n_sample, n_label])\n",
        "    for i,target in enumerate(num_to_targets):\n",
        "        id = (y == target).values.nonzero()[0]\n",
        "        Y[id, i] = 1\n",
        "    X_train, X_test, Y_train, Y_test = train_test_split(X, Y, test_size=0.33, random_state=42)\n",
        "    self.train = DataSet(X_train.values,Y_train)\n",
        "    self.test = DataSet(X_test.values,Y_test)\n",
        "\n",
        "def accuracy(labels,logits):\n",
        "    #indices, labels = extract_index(ind_labels)\n",
        "    y_pred = tf.argmax(input=logits, axis=1)\n",
        "    y_true = tf.argmax(input=labels, axis=1)\n",
        "    return accuracy_score(y_pred,y_true)\n",
        "\n",
        "def custom_loss(labels_true,logits_est):\n",
        "  loss = tf.keras.losses.CategoricalCrossentropy(from_logits=True)\n",
        "  return loss(labels_true,logits_est+1e-16)\n",
        "\n",
        "def evaluation(logits, labels,map_dict):    \n",
        "    print(\"Report:\")\n",
        "    y_pred = pd.Series(tf.argmax(input=logits, axis=1)).map(map_dict)\n",
        "    y_true = pd.Series(tf.argmax(input=labels, axis=1)).map(map_dict)\n",
        "    print(classification_report(y_true,y_pred))\n",
        "\n",
        "def test_metrics(y_pred, y_test):\n",
        "    print(\"~~~test metrics~~~\")\n",
        "    acc_test = evaluation(y_pred,y_test)\n",
        "    return acc_test, y_pred\n",
        "\n",
        "data = Data(X_scaled,y)\n",
        "\n",
        "ae_shape = [data.train.data.shape[1], [1024, 512], data.train.labels.shape[1]] #data.train.data\n",
        "print('/////////////////////////////:ae_shape',ae_shape)\n",
        "ae = Encoder(ae_shape)\n",
        "ae.compile(loss=custom_loss,optimizer='adam',metrics=accuracy,run_eagerly=True)\n",
        "callback = tf.keras.callbacks.EarlyStopping(monitor='loss', patience=10, restore_best_weights=True)\n",
        "history = ae.fit(data.train.data, data.train.labels, batch_size=256,epochs=2000,validation_split=0.1,verbose=True,callbacks=[callback])\n",
        "print(ae.summary())\n",
        "y_pred = ae.call(data.test.data)\n",
        "evaluation(y_pred, data.test.labels,dict(data.num_to_targets))\n",
        "\n",
        "\n"
      ]
    },
    {
      "cell_type": "code",
      "source": [
        ""
      ],
      "metadata": {
        "id": "ZGAyYgiWTtxe"
      },
      "execution_count": null,
      "outputs": []
    }
  ],
  "metadata": {
    "colab": {
      "collapsed_sections": [],
      "name": "Predicting_Breast_Cancer_Subtypes.ipynb",
      "provenance": []
    },
    "jupytext": {
      "formats": "ipynb,md"
    },
    "kernelspec": {
      "display_name": "Python 3 (ipykernel)",
      "language": "python",
      "name": "python3"
    },
    "language_info": {
      "codemirror_mode": {
        "name": "ipython",
        "version": 3
      },
      "file_extension": ".py",
      "mimetype": "text/x-python",
      "name": "python",
      "nbconvert_exporter": "python",
      "pygments_lexer": "ipython3",
      "version": "3.9.7"
    }
  },
  "nbformat": 4,
  "nbformat_minor": 0
}