{
 "cells": [
  {
   "cell_type": "code",
   "execution_count": 1,
   "metadata": {
    "id": "BDQXZWRPTE9o"
   },
   "outputs": [],
   "source": [
    "import random\n",
    "import matplotlib.pyplot as plt\n",
    "import pandas as pd"
   ]
  },
  {
   "cell_type": "markdown",
   "metadata": {
    "id": "ZIgCPMPZQfMR"
   },
   "source": [
    "# The Monty Hall Problem\n",
    "\n",
    "**Suppose you're on a game show, and you're given the choice of three doors: Behind one door is a car; behind the others, goats. You pick a door, say No. 1, and the host, who knows what's behind the doors, opens another door, say No. 3, which has a goat. He then says to you, \"Do you want to pick door No. 2?\" Is it to your advantage to switch your choice?**\n",
    "\n"
   ]
  },
  {
   "cell_type": "markdown",
   "metadata": {
    "id": "IRurU5bKRzoB"
   },
   "source": [
    "![](https://drive.google.com/uc?export=view&id=1PEfYQaQJgjdD_vWXnSaC6X9wgn-Bw8um)"
   ]
  },
  {
   "cell_type": "markdown",
   "metadata": {
    "id": "shDMdDhk0g8k"
   },
   "source": [
    "## Simultion of the Game"
   ]
  },
  {
   "cell_type": "markdown",
   "metadata": {
    "id": "kzAo2m9ZSXKq"
   },
   "source": [
    "Lets decide how many simulations we want to run. We can call this `n_simulations`."
   ]
  },
  {
   "cell_type": "code",
   "execution_count": 2,
   "metadata": {
    "id": "-U9v8prlSkoI"
   },
   "outputs": [],
   "source": [
    "n_simulations = 1000"
   ]
  },
  {
   "cell_type": "markdown",
   "metadata": {
    "id": "A9-M-LJBSy6B"
   },
   "source": [
    "This simple simulation conducts `n_simulations` runthroughs of the monte hall problem. The results are stored in `stay_wins` and `switch_wins`."
   ]
  },
  {
   "cell_type": "markdown",
   "metadata": {},
   "source": [
    "**Exercise 1.** Write a function called ``pick_door`` that returns a random integer from 1, 2, and 3."
   ]
  },
  {
   "cell_type": "code",
   "execution_count": 9,
   "metadata": {},
   "outputs": [],
   "source": [
    "def pick_door():\n",
    "    choice = None\n",
    "    # Your solution here\n",
    "    return choice"
   ]
  },
  {
   "cell_type": "code",
   "execution_count": 18,
   "metadata": {},
   "outputs": [
    {
     "data": {
      "image/png": "[encoded data removed]",
      "text/plain": [
       "<Figure size 432x288 with 1 Axes>"
      ]
     },
     "metadata": {
      "needs_background": "light"
     },
     "output_type": "display_data"
    }
   ],
   "source": [
    "# run this multiple times to make sure it returns only values from 1 to 3\n",
    "doors = []\n",
    "for i in range(100):\n",
    "    doors.append(pick_door())\n",
    "ax = pd.Series(doors).value_counts().plot.bar()"
   ]
  },
  {
   "cell_type": "markdown",
   "metadata": {},
   "source": [
    "**Exercise 2.** Write a function called ``return_host_choices`` that returns a list of doors that the host\n",
    "is allowed to open."
   ]
  },
  {
   "cell_type": "code",
   "execution_count": 10,
   "metadata": {},
   "outputs": [],
   "source": [
    "def return_host_choices(guess_door,car_door):\n",
    "    host_choices = None\n",
    "    # Your solution here\n",
    "    return host_choices"
   ]
  },
  {
   "cell_type": "code",
   "execution_count": 19,
   "metadata": {},
   "outputs": [
    {
     "data": {
      "text/plain": [
       "[2, 3]"
      ]
     },
     "execution_count": 19,
     "metadata": {},
     "output_type": "execute_result"
    }
   ],
   "source": [
    "return_host_choices(1,1)"
   ]
  },
  {
   "cell_type": "code",
   "execution_count": 20,
   "metadata": {},
   "outputs": [
    {
     "data": {
      "text/plain": [
       "[3]"
      ]
     },
     "execution_count": 20,
     "metadata": {},
     "output_type": "execute_result"
    }
   ],
   "source": [
    "return_host_choices(1,2)"
   ]
  },
  {
   "cell_type": "markdown",
   "metadata": {},
   "source": [
    "**Let's put all of this together in a simulation!**\n",
    "\n",
    "We will run a simulation that:\n",
    "1. Guesses a door for the contestent - ``guess_door``.\n",
    "2. Randomly places the car behind a door - ``car_door``.\n",
    "3. Returns the list of host choices and then select a door for the host to choose that is not the car - ``host_opens``.\n",
    "4. Determine the door you would switch to IF you wanted to switch - ``switch_door``.\n",
    "\n",
    "After this is completed, we can check and see if the car door is the guess. If this is the case, then staying with your guess is the correct option. If the switch would have won the car, record that in a list."
   ]
  },
  {
   "cell_type": "code",
   "execution_count": 11,
   "metadata": {
    "id": "qgv8X9oPSza1"
   },
   "outputs": [],
   "source": [
    "stay_wins = 0\n",
    "switch_wins = 0\n",
    "result_records = [] # This list keeps track of the results from the simulation\n",
    "result_columns = ['Chosen Door', 'Open Door', 'Car Door', 'Winner']\n",
    "for i in range(n_simulations):\n",
    "    guess_door = pick_door() # We can't do better than randomly guessing with our initial guess\n",
    "    car_door = pick_door() # The car can be behind door one, two, or three\n",
    "    host_choices = return_host_choices(guess_door,car_door)\n",
    "    host_opens = random.choice(host_choices) # This is the door the host chose to open\n",
    "    switch_door = list(set([1, 2, 3]) - set([guess_door, host_opens]))[0] # This would be your door if you switched\n",
    "\n",
    "    if car_door == guess_door:\n",
    "        stay_wins += 1\n",
    "        winner = 'Stay'\n",
    "    if car_door == switch_door:\n",
    "        switch_wins += 1\n",
    "        winner = 'Switch'\n",
    "    \n",
    "    result_records.append((guess_door, host_opens, car_door, winner))\n"
   ]
  },
  {
   "cell_type": "markdown",
   "metadata": {
    "id": "0JFwL92NWOZ0"
   },
   "source": [
    "## Results of the Simulation\n",
    "- The results of the simulation are shows in the table below.\n",
    "- We can help visualize the outcome with a bar plot\n"
   ]
  },
  {
   "cell_type": "code",
   "execution_count": 21,
   "metadata": {
    "colab": {
     "base_uri": "https://localhost:8080/",
     "height": 423
    },
    "id": "TLLP7j9z08NE",
    "outputId": "259f9734-1c88-4b2f-9ac5-1dca64d0d8d6"
   },
   "outputs": [
    {
     "data": {
      "text/html": [
       "<div>\n",
       "<style scoped>\n",
       "    .dataframe tbody tr th:only-of-type {\n",
       "        vertical-align: middle;\n",
       "    }\n",
       "\n",
       "    .dataframe tbody tr th {\n",
       "        vertical-align: top;\n",
       "    }\n",
       "\n",
       "    .dataframe thead th {\n",
       "        text-align: right;\n",
       "    }\n",
       "</style>\n",
       "<table border=\"1\" class=\"dataframe\">\n",
       "  <thead>\n",
       "    <tr style=\"text-align: right;\">\n",
       "      <th></th>\n",
       "      <th>Chosen Door</th>\n",
       "      <th>Open Door</th>\n",
       "      <th>Car Door</th>\n",
       "      <th>Winner</th>\n",
       "    </tr>\n",
       "  </thead>\n",
       "  <tbody>\n",
       "    <tr>\n",
       "      <th>0</th>\n",
       "      <td>1</td>\n",
       "      <td>2</td>\n",
       "      <td>1</td>\n",
       "      <td>Stay</td>\n",
       "    </tr>\n",
       "    <tr>\n",
       "      <th>1</th>\n",
       "      <td>2</td>\n",
       "      <td>3</td>\n",
       "      <td>2</td>\n",
       "      <td>Stay</td>\n",
       "    </tr>\n",
       "    <tr>\n",
       "      <th>2</th>\n",
       "      <td>1</td>\n",
       "      <td>3</td>\n",
       "      <td>2</td>\n",
       "      <td>Switch</td>\n",
       "    </tr>\n",
       "    <tr>\n",
       "      <th>3</th>\n",
       "      <td>1</td>\n",
       "      <td>3</td>\n",
       "      <td>1</td>\n",
       "      <td>Stay</td>\n",
       "    </tr>\n",
       "    <tr>\n",
       "      <th>4</th>\n",
       "      <td>2</td>\n",
       "      <td>1</td>\n",
       "      <td>3</td>\n",
       "      <td>Switch</td>\n",
       "    </tr>\n",
       "    <tr>\n",
       "      <th>...</th>\n",
       "      <td>...</td>\n",
       "      <td>...</td>\n",
       "      <td>...</td>\n",
       "      <td>...</td>\n",
       "    </tr>\n",
       "    <tr>\n",
       "      <th>995</th>\n",
       "      <td>2</td>\n",
       "      <td>3</td>\n",
       "      <td>2</td>\n",
       "      <td>Stay</td>\n",
       "    </tr>\n",
       "    <tr>\n",
       "      <th>996</th>\n",
       "      <td>1</td>\n",
       "      <td>2</td>\n",
       "      <td>1</td>\n",
       "      <td>Stay</td>\n",
       "    </tr>\n",
       "    <tr>\n",
       "      <th>997</th>\n",
       "      <td>3</td>\n",
       "      <td>1</td>\n",
       "      <td>3</td>\n",
       "      <td>Stay</td>\n",
       "    </tr>\n",
       "    <tr>\n",
       "      <th>998</th>\n",
       "      <td>2</td>\n",
       "      <td>1</td>\n",
       "      <td>3</td>\n",
       "      <td>Switch</td>\n",
       "    </tr>\n",
       "    <tr>\n",
       "      <th>999</th>\n",
       "      <td>3</td>\n",
       "      <td>2</td>\n",
       "      <td>3</td>\n",
       "      <td>Stay</td>\n",
       "    </tr>\n",
       "  </tbody>\n",
       "</table>\n",
       "<p>1000 rows × 4 columns</p>\n",
       "</div>"
      ],
      "text/plain": [
       "     Chosen Door  Open Door  Car Door  Winner\n",
       "0              1          2         1    Stay\n",
       "1              2          3         2    Stay\n",
       "2              1          3         2  Switch\n",
       "3              1          3         1    Stay\n",
       "4              2          1         3  Switch\n",
       "..           ...        ...       ...     ...\n",
       "995            2          3         2    Stay\n",
       "996            1          2         1    Stay\n",
       "997            3          1         3    Stay\n",
       "998            2          1         3  Switch\n",
       "999            3          2         3    Stay\n",
       "\n",
       "[1000 rows x 4 columns]"
      ]
     },
     "execution_count": 21,
     "metadata": {},
     "output_type": "execute_result"
    }
   ],
   "source": [
    "results_df = pd.DataFrame(result_records, columns=result_columns)\n",
    "results_df"
   ]
  },
  {
   "cell_type": "code",
   "execution_count": 24,
   "metadata": {},
   "outputs": [
    {
     "data": {
      "image/png": "[encoded data removed]",
      "text/plain": [
       "<Figure size 432x288 with 1 Axes>"
      ]
     },
     "metadata": {
      "needs_background": "light"
     },
     "output_type": "display_data"
    }
   ],
   "source": [
    "ax = results_df['Winner'].value_counts().plot.bar()\n",
    "ax.set_ylabel('Number of Wins!');"
   ]
  },
  {
   "cell_type": "code",
   "execution_count": 28,
   "metadata": {},
   "outputs": [
    {
     "data": {
      "image/png": "[encoded data removed]",
      "text/plain": [
       "<Figure size 432x288 with 1 Axes>"
      ]
     },
     "metadata": {
      "needs_background": "light"
     },
     "output_type": "display_data"
    }
   ],
   "source": [
    "ax = results_df['Winner'].value_counts(normalize=True).plot.bar()\n",
    "ax.set_ylabel('Fraction of Wins!');"
   ]
  }
 ],
 "metadata": {
  "colab": {
   "name": "Monty_Hall.ipynb",
   "provenance": []
  },
  "kernelspec": {
   "display_name": "Python 3 (ipykernel)",
   "language": "python",
   "name": "python3"
  },
  "language_info": {
   "codemirror_mode": {
    "name": "ipython",
    "version": 3
   },
   "file_extension": ".py",
   "mimetype": "text/x-python",
   "name": "python",
   "nbconvert_exporter": "python",
   "pygments_lexer": "ipython3",
   "version": "3.9.7"
  }
 },
 "nbformat": 4,
 "nbformat_minor": 4
}
